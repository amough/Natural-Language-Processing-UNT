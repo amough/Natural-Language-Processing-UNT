{
  "nbformat": 4,
  "nbformat_minor": 0,
  "metadata": {
    "colab": {
      "provenance": [],
      "collapsed_sections": [
        "WhAKA9LFFcmN",
        "n_SWwokYFknN",
        "4wyYknFf3Yyq",
        "9HOuQ546xuUC",
        "6aTlU1vYF0R0",
        "5HwIyO1FHVN8",
        "RFiLMn7rIHUd",
        "hzpreJA8vXa3",
        "CrwodQNCEugC",
        "o4ViG5aBEugF",
        "Hgg0X8yyEugG",
        "JmuDitiUEugG",
        "gpC3m-uwEugH",
        "ay4Y0Z-VEugI",
        "h1rYOct_EugJ",
        "H6jWVWKdEugJ",
        "xkIPBjtGEugL",
        "9HY0nnxfEugL",
        "AwAH8x7eEugM",
        "g5kAJugaEugM",
        "kGqz-dQnEugM",
        "7S2BjYcVEugN",
        "ZjnyroOHEugN",
        "hEf_qXwSEugO",
        "eeFm-NsOPfHy",
        "zVXuP_SIt63r",
        "tfhQgcECPGEP",
        "ZkX8rW8e4mJ2"
      ]
    },
    "kernelspec": {
      "name": "python3",
      "display_name": "Python 3"
    },
    "language_info": {
      "name": "python"
    }
  },
  "cells": [
    {
      "cell_type": "markdown",
      "source": [
        "# ICE-4: Finding the Minimum edit distance between words and sentences\n",
        "**Instructions**:\n",
        "1. Wherever you are asked to code, insert a text block below your code block and explain what you have coded as per your own understanding.\n",
        "2. If the code is provided by us, execute it, and add below a text block and provide your explanation in your own words.\n",
        "3. Submit both the .ipynb and pdf files to canvas.\n",
        "4. **The similarity score should be less than 15%.**"
      ],
      "metadata": {
        "id": "lGjquFgxQq08"
      }
    },
    {
      "cell_type": "markdown",
      "source": [
        "##Task-1 (5 points)\n",
        "# What is the purpose and motivation behind edit distance? What are the operations used in Edit distance?"
      ],
      "metadata": {
        "id": "WhAKA9LFFcmN"
      }
    },
    {
      "cell_type": "markdown",
      "source": [
        "**Answer Task-1:**\n",
        "Purpsoe and motivation behind edit distance is to find the similarity between two words or string. It can be used for spell-check, etc. There are three operations usd in Edit Distance:\n",
        "1.Insertion\n",
        "2.Deletion\n",
        "3.Substitution\n",
        "***"
      ],
      "metadata": {
        "id": "cRDeSAtl5Pkl"
      }
    },
    {
      "cell_type": "markdown",
      "source": [
        "# Character Based Text Similarity\n",
        "Character-based Similarity is also called sequence-based or edit distance (ED) measurement. It takes two strings of characters and then calculates the edit distance (including insertion, deletion and substitution) between them. Character-based quantifies character similarity between two strings to\n",
        "quantify the similarity, for instance edit distance which is the minimum number of single-character edit operations needed to transform one to another. \n",
        "\"As an example, this technology is used by information retrieval systems, search engines, automatic indexing systems, text summarizers, categorization systems, plagiarism checkers, speech recognition, rating systems, DNA analysis, and profiling algorithms (IR/AI programs to automatically link data between people and what they do).\""
      ],
      "metadata": {
        "id": "n_SWwokYFknN"
      }
    },
    {
      "cell_type": "markdown",
      "source": [
        "##Tutorial-1"
      ],
      "metadata": {
        "id": "4wyYknFf3Yyq"
      }
    },
    {
      "cell_type": "code",
      "source": [
        "# A Naive recursive Python program to find minimum number\n",
        "# operations to convert str1 to str2\n",
        " \n",
        " \n",
        "def editDistance(str1, str2, m, n):\n",
        " \n",
        "    # If first string is empty, the only option is to\n",
        "    # insert all characters of second string into first\n",
        "    if m == 0:\n",
        "        return n\n",
        " \n",
        "    # If second string is empty, the only option is to\n",
        "    # remove all characters of first string\n",
        "    if n == 0:\n",
        "        return m\n",
        " \n",
        "    # If last characters of two strings are same, nothing\n",
        "    # much to do. Ignore last characters and get count for\n",
        "    # remaining strings.\n",
        "    if str1[m-1] == str2[n-1]:\n",
        "        return editDistance(str1, str2, m-1, n-1)\n",
        " \n",
        "    # If last characters are not same, consider all three\n",
        "    # operations on last character of first string, recursively\n",
        "    # compute minimum cost for all three operations and take\n",
        "    # minimum of three values.\n",
        "    return 1 + min(editDistance(str1, str2, m, n-1),    # Insert\n",
        "                   editDistance(str1, str2, m-1, n),    # Remove\n",
        "                   editDistance(str1, str2, m-1, n-1)    # Replace\n",
        "                   )\n",
        " \n",
        " \n",
        "# Driver code\n",
        "str1 = \"thought\"\n",
        "str2 = \"thinking\"\n",
        "print (editDistance(str1, str2, len(str1), len(str2)))"
      ],
      "metadata": {
        "id": "klWflFdyGt4R",
        "colab": {
          "base_uri": "https://localhost:8080/"
        },
        "outputId": "c2c0170d-5e44-4ad0-b340-661f4dd179b3"
      },
      "execution_count": 1,
      "outputs": [
        {
          "output_type": "stream",
          "name": "stdout",
          "text": [
            "6\n"
          ]
        }
      ]
    },
    {
      "cell_type": "markdown",
      "source": [
        "Recursion is used to find the minimum edit distance between \"thought\" and \"thinking\"\n",
        "\n"
      ],
      "metadata": {
        "id": "RK9nNDmf8KvO"
      }
    },
    {
      "cell_type": "markdown",
      "source": [
        "## Task 2 (10 points)\n",
        "##Assume the cost of insertions is 0, deletion is 3 and substitution is 1. Compute MINIMUM Edit Distance between two strings ‘exclusion’ and ‘professional’."
      ],
      "metadata": {
        "id": "9HOuQ546xuUC"
      }
    },
    {
      "cell_type": "code",
      "source": [
        "## Enter your code here\n",
        "# A Naive recursive Python program to find minimum number\n",
        "# operations to convert str1 to str2\n",
        " \n",
        " \n",
        "def editDistance(str1, str2, m, n):\n",
        " \n",
        "    # If first string is empty, the only option is to\n",
        "    # insert all characters of second string into first\n",
        "    if m == 0:\n",
        "        return n*0 #Insertion is 0\n",
        " \n",
        "    # If second string is empty, the only option is to\n",
        "    # remove all characters of first string\n",
        "    if n == 0:\n",
        "        return m*3 #Deletion is 3\n",
        " \n",
        "    # If last characters of two strings are same, nothing\n",
        "    # much to do. Ignore last characters and get count for\n",
        "    # remaining strings.\n",
        "    if str1[m-1] == str2[n-1]:\n",
        "        return editDistance(str1, str2, m-1, n-1)\n",
        " \n",
        "    # If last characters are not same, consider all three\n",
        "    # operations on last character of first string, recursively\n",
        "    # compute minimum cost for all three operations and take\n",
        "    # minimum of three values.\n",
        "    return min(editDistance(str1, str2, m, n-1),    # Insert\n",
        "               3+editDistance(str1, str2, m-1, n),    # Remove\n",
        "              1+editDistance(str1, str2, m-1, n-1)    # Replace\n",
        "                   )\n",
        " \n",
        " \n",
        "# Driver code\n",
        "str1 = \"exclusion\"\n",
        "str2 = \"professional\"\n",
        "print (editDistance(str1, str2, len(str1), len(str2)))"
      ],
      "metadata": {
        "id": "yOKTvviOx53j",
        "colab": {
          "base_uri": "https://localhost:8080/"
        },
        "outputId": "28e92bf6-4303-4678-b9a1-9e6ad703162f"
      },
      "execution_count": 4,
      "outputs": [
        {
          "output_type": "stream",
          "name": "stdout",
          "text": [
            "5\n"
          ]
        }
      ]
    },
    {
      "cell_type": "markdown",
      "source": [
        "Recursion is used to find the weighted minimum edit distance between \"exclusion\" and \"professional\". The cost of insertion is 0, cost of deletion is 3,and cost of substitution is 1.\n"
      ],
      "metadata": {
        "id": "o8oZ7SOX9AL-"
      }
    },
    {
      "cell_type": "markdown",
      "source": [
        "##Tutorial-2\n",
        "# The Levenshtein Distance\n",
        "\"This method was invented in 1965 by the Russian Mathematician Vladimir Levenshtein (1935-2017). The distance value describes the minimal number of deletions, insertions, or substitutions that are required to transform one string (the source) into another (the target). Unlike the Hamming distance, the Levenshtein distance works on strings with an unequal length.\"\n",
        "\n",
        "SOURCE: [Levenshtein Distance and Text Similarity in Python](https://stackabuse.com/levenshtein-distance-and-text-similarity-in-python/)"
      ],
      "metadata": {
        "id": "6aTlU1vYF0R0"
      }
    },
    {
      "cell_type": "code",
      "source": [
        "import numpy as np\n",
        "seq1 = 'medicine'\n",
        "seq2 = 'medical'\n",
        "\n",
        "# create a matrix\n",
        "size_x = len(seq1) + 1\n",
        "size_y = len(seq2) + 1\n",
        "matrix = np.zeros ((size_x, size_y))\n",
        "matrix"
      ],
      "metadata": {
        "id": "CQ01wUu6G8vj",
        "colab": {
          "base_uri": "https://localhost:8080/"
        },
        "outputId": "35f96450-a10b-436e-e744-c8a0bba91ade"
      },
      "execution_count": 5,
      "outputs": [
        {
          "output_type": "execute_result",
          "data": {
            "text/plain": [
              "array([[0., 0., 0., 0., 0., 0., 0., 0.],\n",
              "       [0., 0., 0., 0., 0., 0., 0., 0.],\n",
              "       [0., 0., 0., 0., 0., 0., 0., 0.],\n",
              "       [0., 0., 0., 0., 0., 0., 0., 0.],\n",
              "       [0., 0., 0., 0., 0., 0., 0., 0.],\n",
              "       [0., 0., 0., 0., 0., 0., 0., 0.],\n",
              "       [0., 0., 0., 0., 0., 0., 0., 0.],\n",
              "       [0., 0., 0., 0., 0., 0., 0., 0.],\n",
              "       [0., 0., 0., 0., 0., 0., 0., 0.]])"
            ]
          },
          "metadata": {},
          "execution_count": 5
        }
      ]
    },
    {
      "cell_type": "markdown",
      "source": [
        "2-D Matrix is generated"
      ],
      "metadata": {
        "id": "cSoiUyMX9fdc"
      }
    },
    {
      "cell_type": "code",
      "source": [
        "# set col numbers (0, n-1)\n",
        "for x in range(size_x):\n",
        "    matrix [x, 0] = x\n",
        "\n",
        "# set row numbers (0, n-1)\n",
        "for y in range(size_y):\n",
        "    matrix [0, y] = y\n",
        "\n",
        "matrix"
      ],
      "metadata": {
        "id": "EDDx5P0rG_Rz",
        "colab": {
          "base_uri": "https://localhost:8080/"
        },
        "outputId": "5e48508f-1b85-461d-9c09-49dc80d379cd"
      },
      "execution_count": 6,
      "outputs": [
        {
          "output_type": "execute_result",
          "data": {
            "text/plain": [
              "array([[0., 1., 2., 3., 4., 5., 6., 7.],\n",
              "       [1., 0., 0., 0., 0., 0., 0., 0.],\n",
              "       [2., 0., 0., 0., 0., 0., 0., 0.],\n",
              "       [3., 0., 0., 0., 0., 0., 0., 0.],\n",
              "       [4., 0., 0., 0., 0., 0., 0., 0.],\n",
              "       [5., 0., 0., 0., 0., 0., 0., 0.],\n",
              "       [6., 0., 0., 0., 0., 0., 0., 0.],\n",
              "       [7., 0., 0., 0., 0., 0., 0., 0.],\n",
              "       [8., 0., 0., 0., 0., 0., 0., 0.]])"
            ]
          },
          "metadata": {},
          "execution_count": 6
        }
      ]
    },
    {
      "cell_type": "markdown",
      "source": [
        "Initial Row and Column are filled"
      ],
      "metadata": {
        "id": "i8Iu4p-19lZF"
      }
    },
    {
      "cell_type": "code",
      "source": [
        "import numpy as np\n",
        "import pandas as pd\n",
        "\n",
        "\n",
        "def levenshtein(seq1, seq2):\n",
        "    # create a matrix\n",
        "    size_x = len(seq1) + 1\n",
        "    size_y = len(seq2) + 1\n",
        "    matrix = np.zeros ((size_x, size_y))\n",
        "    \n",
        "    # set col numbers (0, n-1)\n",
        "    for x in range(size_x):\n",
        "        matrix [x, 0] = x\n",
        "    \n",
        "    # set row numbers (0, n-1)\n",
        "    for y in range(size_y):\n",
        "        matrix [0, y] = y\n",
        "\n",
        "    # calculate distance\n",
        "    for x in range(1, size_x):\n",
        "        for y in range(1, size_y):\n",
        "            # if characters match do not increase distance\n",
        "            if seq1[x-1] == seq2[y-1]:\n",
        "                matrix [x,y] = matrix[x-1, y-1]\n",
        "            # if characters don't match increase min distance by 1\n",
        "            else:\n",
        "                matrix [x,y] = min(\n",
        "                    matrix[x-1,y] + 1,\n",
        "                    matrix[x-1,y-1] + 1,\n",
        "                    matrix[x,y-1] + 1\n",
        "                )\n",
        "\n",
        "    # print the distance calulation matrix\n",
        "    # list(seq1) converts string into a list of the characters\n",
        "    print(pd.DataFrame(matrix[1:,1:], index=list(seq1), columns=list(seq2)))\n",
        "    \n",
        "    return (matrix[size_x - 1, size_y - 1])\n",
        "\n",
        "levenshtein('medicine','medical')"
      ],
      "metadata": {
        "id": "syNCcFXhG_1P",
        "colab": {
          "base_uri": "https://localhost:8080/"
        },
        "outputId": "9613ca03-f12a-44e9-d148-02321c56496f"
      },
      "execution_count": 7,
      "outputs": [
        {
          "output_type": "stream",
          "name": "stdout",
          "text": [
            "     m    e    d    i    c    a    l\n",
            "m  0.0  1.0  2.0  3.0  4.0  5.0  6.0\n",
            "e  1.0  0.0  1.0  2.0  3.0  4.0  5.0\n",
            "d  2.0  1.0  0.0  1.0  2.0  3.0  4.0\n",
            "i  3.0  2.0  1.0  0.0  1.0  2.0  3.0\n",
            "c  4.0  3.0  2.0  1.0  0.0  1.0  2.0\n",
            "i  5.0  4.0  3.0  2.0  1.0  1.0  2.0\n",
            "n  6.0  5.0  4.0  3.0  2.0  2.0  2.0\n",
            "e  7.0  6.0  5.0  4.0  3.0  3.0  3.0\n"
          ]
        },
        {
          "output_type": "execute_result",
          "data": {
            "text/plain": [
              "3.0"
            ]
          },
          "metadata": {},
          "execution_count": 7
        }
      ]
    },
    {
      "cell_type": "markdown",
      "source": [
        "Levenshtein is used to find the minimum distance between medicine and medical."
      ],
      "metadata": {
        "id": "HPoGUFjZ9uOh"
      }
    },
    {
      "cell_type": "code",
      "source": [
        "from IPython.lib.display import YouTubeVideo\n",
        "YouTubeVideo('We3YDTzNXEk')"
      ],
      "metadata": {
        "id": "MSQtw0-0HG3h",
        "colab": {
          "base_uri": "https://localhost:8080/",
          "height": 321
        },
        "outputId": "063800c5-59fd-429f-ec1e-db67b517b277"
      },
      "execution_count": 8,
      "outputs": [
        {
          "output_type": "execute_result",
          "data": {
            "text/plain": [
              "<IPython.lib.display.YouTubeVideo at 0x7fbfaf3fcd50>"
            ],
            "text/html": [
              "\n",
              "        <iframe\n",
              "            width=\"400\"\n",
              "            height=\"300\"\n",
              "            src=\"https://www.youtube.com/embed/We3YDTzNXEk\"\n",
              "            frameborder=\"0\"\n",
              "            allowfullscreen\n",
              "        ></iframe>\n",
              "        "
            ],
            "image/jpeg": "[encoded data removed]"
          },
          "metadata": {},
          "execution_count": 8
        }
      ]
    },
    {
      "cell_type": "markdown",
      "source": [
        "Youtube Video is Displayed"
      ],
      "metadata": {
        "id": "eAqKOUzb95lP"
      }
    },
    {
      "cell_type": "markdown",
      "source": [
        "# Task 3: (20 points)\n",
        "Find the similarity using SpaCy and sklearn using python code. Also, explain the difference between the approaches of the tutorial, SpaCy and sklearn"
      ],
      "metadata": {
        "id": "5HwIyO1FHVN8"
      }
    },
    {
      "cell_type": "markdown",
      "source": [
        "**Similarity of strings using Leven(Sklearn) library**"
      ],
      "metadata": {
        "id": "4Q8y_SRkKFrB"
      }
    },
    {
      "cell_type": "code",
      "source": [
        "pip install leven"
      ],
      "metadata": {
        "id": "L5PGcg6VJvDZ",
        "colab": {
          "base_uri": "https://localhost:8080/"
        },
        "outputId": "0c54e60e-b2e1-49ab-e616-46131e1d731d"
      },
      "execution_count": 9,
      "outputs": [
        {
          "output_type": "stream",
          "name": "stdout",
          "text": [
            "Looking in indexes: https://pypi.org/simple, https://us-python.pkg.dev/colab-wheels/public/simple/\n",
            "Collecting leven\n",
            "  Downloading leven-1.0.4.tar.gz (20 kB)\n",
            "Requirement already satisfied: six in /usr/local/lib/python3.7/dist-packages (from leven) (1.15.0)\n",
            "Collecting nose\n",
            "  Downloading nose-1.3.7-py3-none-any.whl (154 kB)\n",
            "\u001b[K     |████████████████████████████████| 154 kB 27.0 MB/s \n",
            "\u001b[?25hBuilding wheels for collected packages: leven\n",
            "  Building wheel for leven (setup.py) ... \u001b[?25l\u001b[?25hdone\n",
            "  Created wheel for leven: filename=leven-1.0.4-cp37-cp37m-linux_x86_64.whl size=55493 sha256=eec9e40482d6c6f44089e4949668e7826347eb81eb0fdffbf245014b6361d918\n",
            "  Stored in directory: /root/.cache/pip/wheels/27/d5/b1/b36dd23f85aa662f19b11ef6069d5dc66643dfc1831d9f2bf5\n",
            "Successfully built leven\n",
            "Installing collected packages: nose, leven\n",
            "Successfully installed leven-1.0.4 nose-1.3.7\n"
          ]
        }
      ]
    },
    {
      "cell_type": "markdown",
      "source": [
        "Library installed"
      ],
      "metadata": {
        "id": "j9epJ8lD9-Jw"
      }
    },
    {
      "cell_type": "code",
      "source": [
        "from leven import levenshtein\n",
        "from sklearn.cluster import dbscan\n",
        "\n",
        "s1=\"abc\"\n",
        "s2=\"bca\"\n",
        "distance=levenshtein(s1,s2)\n",
        "distance"
      ],
      "metadata": {
        "id": "VFb6N1SkJxN3",
        "colab": {
          "base_uri": "https://localhost:8080/"
        },
        "outputId": "20c68c57-eaf6-4276-f85f-14e300881cb5"
      },
      "execution_count": 10,
      "outputs": [
        {
          "output_type": "execute_result",
          "data": {
            "text/plain": [
              "2"
            ]
          },
          "metadata": {},
          "execution_count": 10
        }
      ]
    },
    {
      "cell_type": "markdown",
      "source": [
        "Levenshtein Distance is displayed for abc and bca"
      ],
      "metadata": {
        "id": "aKyXX8kW-Dnn"
      }
    },
    {
      "cell_type": "code",
      "source": [
        "# Task 3a: Your code here for leven(sklearn) implementation implementation taking input strings of your choice(5 points)\n",
        "from leven import levenshtein\n",
        "from sklearn.cluster import dbscan\n",
        "\n",
        "s1=\"basketball\"\n",
        "s2=\"football\"\n",
        "distance=levenshtein(s1,s2)\n",
        "distance"
      ],
      "metadata": {
        "id": "E1FJ4wQ6IA5j",
        "colab": {
          "base_uri": "https://localhost:8080/"
        },
        "outputId": "357148b7-cef1-4c43-b088-dab2510734e3"
      },
      "execution_count": 12,
      "outputs": [
        {
          "output_type": "execute_result",
          "data": {
            "text/plain": [
              "5"
            ]
          },
          "metadata": {},
          "execution_count": 12
        }
      ]
    },
    {
      "cell_type": "markdown",
      "source": [
        "Levenshtein Distance is displayed using leven(sklearn) for basketball and football "
      ],
      "metadata": {
        "id": "YAw7pwmz-6Z8"
      }
    },
    {
      "cell_type": "code",
      "source": [
        "# Task 3b: In the same way, code here for Spacy implementation (5 points)\n",
        "import numpy as np\n",
        "import pandas as pd\n",
        "\n",
        "\n",
        "def levenshtein(seq1, seq2):\n",
        "    # create a matrix\n",
        "    size_x = len(seq1) + 1\n",
        "    size_y = len(seq2) + 1\n",
        "    matrix = np.zeros ((size_x, size_y))\n",
        "    \n",
        "    # set col numbers (0, n-1)\n",
        "    for x in range(size_x):\n",
        "        matrix [x, 0] = x\n",
        "    \n",
        "    # set row numbers (0, n-1)\n",
        "    for y in range(size_y):\n",
        "        matrix [0, y] = y\n",
        "\n",
        "    # calculate distance\n",
        "    for x in range(1, size_x):\n",
        "        for y in range(1, size_y):\n",
        "            # if characters match do not increase distance\n",
        "            if seq1[x-1] == seq2[y-1]:\n",
        "                matrix [x,y] = matrix[x-1, y-1]\n",
        "            # if characters don't match increase min distance by 1\n",
        "            else:\n",
        "                matrix [x,y] = min(\n",
        "                    matrix[x-1,y] + 1,\n",
        "                    matrix[x-1,y-1] + 1,\n",
        "                    matrix[x,y-1] + 1\n",
        "                )\n",
        "\n",
        "    # print the distance calulation matrix\n",
        "    # list(seq1) converts string into a list of the characters\n",
        "    print(pd.DataFrame(matrix[1:,1:], index=list(seq1), columns=list(seq2)))\n",
        "    \n",
        "    return int((matrix[size_x - 1, size_y - 1]))\n",
        "\n",
        "levenshtein('basketball','football')"
      ],
      "metadata": {
        "id": "ffJPG8t9Iz8W",
        "colab": {
          "base_uri": "https://localhost:8080/"
        },
        "outputId": "102e1401-78dd-486e-b90d-59db176d3b26"
      },
      "execution_count": 34,
      "outputs": [
        {
          "output_type": "stream",
          "name": "stdout",
          "text": [
            "      f     o     o    t    b    a    l    l\n",
            "b   1.0   2.0   3.0  4.0  4.0  5.0  6.0  7.0\n",
            "a   2.0   2.0   3.0  4.0  5.0  4.0  5.0  6.0\n",
            "s   3.0   3.0   3.0  4.0  5.0  5.0  5.0  6.0\n",
            "k   4.0   4.0   4.0  4.0  5.0  6.0  6.0  6.0\n",
            "e   5.0   5.0   5.0  5.0  5.0  6.0  7.0  7.0\n",
            "t   6.0   6.0   6.0  5.0  6.0  6.0  7.0  8.0\n",
            "b   7.0   7.0   7.0  6.0  5.0  6.0  7.0  8.0\n",
            "a   8.0   8.0   8.0  7.0  6.0  5.0  6.0  7.0\n",
            "l   9.0   9.0   9.0  8.0  7.0  6.0  5.0  6.0\n",
            "l  10.0  10.0  10.0  9.0  8.0  7.0  6.0  5.0\n"
          ]
        },
        {
          "output_type": "execute_result",
          "data": {
            "text/plain": [
              "5"
            ]
          },
          "metadata": {},
          "execution_count": 34
        }
      ]
    },
    {
      "cell_type": "code",
      "source": [
        "# Task 3c: Your analysis on tutorial we provided, spacy implementation and leven implementation(5 points)\n",
        "#Both works perfectly fine."
      ],
      "metadata": {
        "id": "CCG-PeQRIDBv"
      },
      "execution_count": 35,
      "outputs": []
    },
    {
      "cell_type": "markdown",
      "source": [
        "Both works perfectly finne."
      ],
      "metadata": {
        "id": "mMR61SluMdm1"
      }
    },
    {
      "cell_type": "markdown",
      "source": [
        "**Longest Common Subsequence**\n",
        "\n",
        "Subsequence is a string that can be derived from a string by deleting 0 or more characters without changing the order of the remaining characters in the string. \n",
        "<br>Exapmple: \"NLP\" is a subsequence of \"Natural Language Processing\", where as \"LNP\" is not.\n",
        "\n",
        "So, for a given two strings, S1 and S2, their Longest Common Subsequence is a **string that is a subsequence of both S1 and S2, also the longest of all such subsequences.** This lenght of the longest common subsequence can also be refered as Longest Common Subsequence Distance.\n",
        "\n",
        "<br>Example: \n",
        "<br>S1=\"abcde\"\n",
        "<br>S2=\"abcef\"\n",
        "<br>Here, the longest common subsequence is \"abce\".\n",
        "<br>List of all common subsequences of S1 and S2:\n",
        " \"a\",\"ab\",\"abc\",\"abce\",\"b\",\"bc\",\"bce\",\"c\",\"ce\",\"e\".\n",
        " <br>Of all these common subsequences, \"abce\" is the longest. Hence \"abce\" is the longest common subsequence.\n",
        "<br>**Note:** Think if it is possible to have multiple longest common subsequences."
      ],
      "metadata": {
        "id": "NZeSOKZCrpvY"
      }
    },
    {
      "cell_type": "code",
      "source": [
        "# Task 3d: Explain how Longest common subsequence distance different from Edit Distance? Support your explanation with examples. (5 points)"
      ],
      "metadata": {
        "id": "nHq99Iz8sfKo"
      },
      "execution_count": null,
      "outputs": []
    },
    {
      "cell_type": "markdown",
      "source": [
        "Longest Common Subsequence distance is different from Edit Distance because for the Longest Common Subsequence we can only delete elements from both strings but we cannot insert or replace the elements. In the Edit we can do all three things: Deletion, Insertion and Substitution. Example is Longest common subsequence for abc and bca is bc by deleting a from both. The minimum edit edit is 2 by removing a from begining of abc and then inserting a at the end."
      ],
      "metadata": {
        "id": "FGpH-uHNAIng"
      }
    },
    {
      "cell_type": "markdown",
      "source": [
        "##Tutorial-3\n",
        "# Levenshtein Distance for Sentences"
      ],
      "metadata": {
        "id": "RFiLMn7rIHUd"
      }
    },
    {
      "cell_type": "code",
      "source": [
        "# Simple Minimum Edit Distance\n",
        "\n",
        "import numpy as np\n",
        "del_cost=1\n",
        "ins_cost=1\n",
        "sub_cost=2"
      ],
      "metadata": {
        "id": "_QPI9_zWGK3I"
      },
      "execution_count": 13,
      "outputs": []
    },
    {
      "cell_type": "markdown",
      "source": [
        "numpy is imported as np."
      ],
      "metadata": {
        "id": "ug1vxJWvBNiX"
      }
    },
    {
      "cell_type": "code",
      "source": [
        "def Calculate_Minimum_edit_distance(source,target):\n",
        "    source =source.split(' ')\n",
        "    target =target.split(' ')\n",
        "    n= len(source)\n",
        "    m= len(target)\n",
        "    MED_Matrix= np.zeros((n+1,m+1), dtype='int32')\n",
        "    for i in range(1,n+1):\n",
        "        MED_Matrix[i][0]=MED_Matrix[i-1][0]+del_cost\n",
        "    for i in range(1,m+1):\n",
        "        MED_Matrix[0][i]=MED_Matrix[0][i-1]+del_cost   \n",
        "    for i in range(1,n+1):\n",
        "        for j in range(1,m+1):\n",
        "            if(source[i-1]==target[j-1]):\n",
        "                MED_Matrix[i][j]=min([MED_Matrix[i-1][j]+del_cost,MED_Matrix[i-1][j-1]+0,MED_Matrix[i][j-1]+ins_cost])\n",
        "            else:\n",
        "                MED_Matrix[i][j]=min([MED_Matrix[i-1][j]+del_cost,MED_Matrix[i-1][j-1]+sub_cost,MED_Matrix[i][j-1]+ins_cost])\n",
        "    #print(np.matrix(MED_Matrix))\n",
        "    #print(MED_Matrix[n][m])\n",
        "    return MED_Matrix[n][m]"
      ],
      "metadata": {
        "id": "5WWFo5spGQO3"
      },
      "execution_count": 14,
      "outputs": []
    },
    {
      "cell_type": "markdown",
      "source": [
        "Function to calculate Levenshtein Distance is generated"
      ],
      "metadata": {
        "id": "kZQbMTVqBSDL"
      }
    },
    {
      "cell_type": "code",
      "source": [
        "Calculate_Minimum_edit_distance('This is a cat','That is a dog')"
      ],
      "metadata": {
        "id": "LMgjWjIOGS_L",
        "colab": {
          "base_uri": "https://localhost:8080/"
        },
        "outputId": "fbd7cf7b-044a-4a3f-a400-c76a33c2a84b"
      },
      "execution_count": 15,
      "outputs": [
        {
          "output_type": "execute_result",
          "data": {
            "text/plain": [
              "4"
            ]
          },
          "metadata": {},
          "execution_count": 15
        }
      ]
    },
    {
      "cell_type": "markdown",
      "source": [
        "The Levenshtein Distance for the strings \"This is a cat\" and \"That is a dog\" is *calculated* "
      ],
      "metadata": {
        "id": "lGtF8NCLBdpe"
      }
    },
    {
      "cell_type": "markdown",
      "source": [
        "##Task 4: (10 points)\n",
        "##Compute the Levenshtein distance between two strings.\n",
        "\n",
        "String1 = (\"Game Programming lets you into Game industry.\")\n",
        "\n",
        "String2 = (\"Fame programming doesn't. Because there isn't one.\")"
      ],
      "metadata": {
        "id": "hzpreJA8vXa3"
      }
    },
    {
      "cell_type": "code",
      "source": [
        "##ENTER YOUR CODE HERE\n",
        "# Simple Minimum Edit Distance\n",
        "\n",
        "import numpy as np\n",
        "del_cost=1\n",
        "ins_cost=1\n",
        "sub_cost=2\n",
        "\n",
        "def Calculate_Minimum_edit_distance(source,target):\n",
        "    source =source.split(' ')\n",
        "    target =target.split(' ')\n",
        "    n= len(source)\n",
        "    m= len(target)\n",
        "    MED_Matrix= np.zeros((n+1,m+1), dtype='int32')\n",
        "    for i in range(1,n+1):\n",
        "        MED_Matrix[i][0]=MED_Matrix[i-1][0]+del_cost\n",
        "    for i in range(1,m+1):\n",
        "        MED_Matrix[0][i]=MED_Matrix[0][i-1]+del_cost   \n",
        "    for i in range(1,n+1):\n",
        "        for j in range(1,m+1):\n",
        "            if(source[i-1]==target[j-1]):\n",
        "                MED_Matrix[i][j]=min([MED_Matrix[i-1][j]+del_cost,MED_Matrix[i-1][j-1]+0,MED_Matrix[i][j-1]+ins_cost])\n",
        "            else:\n",
        "                MED_Matrix[i][j]=min([MED_Matrix[i-1][j]+del_cost,MED_Matrix[i-1][j-1]+sub_cost,MED_Matrix[i][j-1]+ins_cost])\n",
        "    #print(np.matrix(MED_Matrix))\n",
        "    #print(MED_Matrix[n][m])\n",
        "    return MED_Matrix[n][m]\n",
        "\n",
        "Calculate_Minimum_edit_distance(\"Game Programming lets you into Game industry.\",\"Fame programming doesn't. Because there isn't one.\")"
      ],
      "metadata": {
        "id": "kcDvlYTD4YvR",
        "colab": {
          "base_uri": "https://localhost:8080/"
        },
        "outputId": "68d53fea-ae76-4525-e353-4b547b51e125"
      },
      "execution_count": 17,
      "outputs": [
        {
          "output_type": "execute_result",
          "data": {
            "text/plain": [
              "14"
            ]
          },
          "metadata": {},
          "execution_count": 17
        }
      ]
    },
    {
      "cell_type": "markdown",
      "source": [
        "The Levenshtein Distance for the strings \"Game Programming lets you into Game industry.\" and \"Fame programming doesn't. Because there isn't one.\" is *calculated* "
      ],
      "metadata": {
        "id": "Fa82arNQCC6Z"
      }
    },
    {
      "cell_type": "markdown",
      "source": [
        "# Needleman Wunsch alignment"
      ],
      "metadata": {
        "id": "RRPlMH8TIvTC"
      }
    },
    {
      "cell_type": "markdown",
      "metadata": {
        "id": "CrwodQNCEugC"
      },
      "source": [
        "# Alignment Matters\n",
        "\n",
        "In written text, spaces matter a lot. For example consider the following nonsense phrase:\n",
        "\n",
        ">HIDING OLD PANTHERS WORDS ARE SHARP \n",
        "\n",
        "It describes the mean words of a hiding feline. Now compare against this one:\n",
        "\n",
        ">HID IN GOLD PANT HER SWORDS ARE SHARP\n",
        "\n",
        "It describes the sharpness of swords in someone's pants.\n",
        "\n",
        "The only difference between the two phrases is the placement of spaces - all the letters are otherwise the same. (You can take a moment to check this - I worked really hard coming up with these ;))\n",
        "\n",
        "Now let's think about an evolving DNA sequence. That sequence can undergo several types of mutations. These include substitutions, where one nucleotide in the DNA  is replaced with another (such as A --> T), but can also include insertions - in which a letter is added in the middle of a sequence (such as 'A' -> 'AT')  - or deletions (like 'AT' -> 'A'). \n",
        "\n",
        "Much like the nonsense phrases above, insertions or deletions (collectively known as 'indels') can cause *misalignment* between the letters of an ancestral DNA sequence and its descendants. The process of *sequence alignment* attempts to detect where insertions or deletions have occurred in order to more accurately line up nucleotides that share an evolutionary origin."
      ]
    },
    {
      "cell_type": "markdown",
      "metadata": {
        "id": "nhpRLgwqEugF"
      },
      "source": [
        "## Flavors of Sequence Alignment: Global vs. Local Alignment \n",
        "\n",
        "Sequence alignment comes in several different flavors or varieties:\n",
        "\n",
        "**Global sequence alignment** assumes two sequences are homologous (or share a common evolutionary ancestor) across their whole length. It tries to line up the whole thing, from tail to snout. This might be a reasonable assumption for two genes in the same gene family, for instance. \n",
        "\n",
        "**Local sequence alignment** assumes that there are regions of homology within a bigger sequence, but also regions that do not share common ancestry. This might be a reasonable assumption if checking how many genes two species share. If the species aren't extremely closely related, we would expect that they would share certain genes, but also that there should be large portions of the genome that do not share detectable evolutionary ancestry between the two species (due to large insertions, deletions, inversions or rearrangements). \n",
        "\n",
        "Alignment methods can also be **pairwise** methods, in which two sequences are aligned or **multiple sequence alignments** in which many sequences are aligned together (e.g. all the amino-acyl tRNA synthetase genes in mammals).\n",
        "\n",
        "In this chapter we will focus first on global alignment. However, once you understand global alignment in detail, the algorithm for local alignment is similar enough that you can understand that as well, with just a little extra effort. \n",
        "\n",
        "In **pairwise global sequence alignment** we begin with two sequences. These can be DNA, RNA or amino acid sequences. For simplicity, let's focus at first on pairwise global alignment of DNA sequences. \n",
        "\n",
        "We'll assume that the full length of our two sequences are homologous, but may contain *insertions* or *deletions* of nucleotides that have caused the homologous positions not to line up with each other. Therefore, our goal is to 'align' or line up these homologous positions in the sequences by adding '-' characters to certain places in each sequence.  These '-' characters will represent places where the two nucleotide sequences become offset from one another (and therefore stop lining up) due to either an extra nucleotide inserted into one, or a nucleotide deleted from the other. \n",
        "\n",
        "Here's an example. Let's start with two unaligned DNA sequences: `AAAATATTGG` and `TCCTATGG`. If we try to compare sequence identity between these sequences without alignment, we won't see a high level of sequence similarity:\n",
        "\n",
        "`AAAATATTGG` <br>\n",
        "`TCCTATGG`\n",
        "\n",
        "Indeed, if you compare the nulceotides that line up, you'll see that *none* of them match. If we wanted to formalize this, we could calculate the Hamming Distance between the two sequences (just 1 - the fraction of matching items), and we would find a distance of 1.0.\n",
        "\n",
        "Yet it is probably clear that the sequences have many similarities. If we upload these sequences to a pairwise global alignment web tool (like the EMBOSS one at [EBI](https://www.ebi.ac.uk/Tools/services/web/toolresult.ebi?jobId=emboss_needle-I20201212-184827-0832-96343451-p1m)), we might get a result that looks something like this:\n",
        "\n",
        "`EMBOSS_001         1 AAAATAT----TGG     10\n",
        "                           |    |||\n",
        "EMBOSS_001         1 ------TCCTATGG      8`\n",
        "\n",
        "From a pairswise alignment alone, we can't distinguish whether '-' characters represent insertion in the sequence without the '-' or deletion in the sequence with the '-'. For this reason '-' characters are called *gaps* or *indels* (short for *in*sertion **or** *del*etion)."
      ]
    },
    {
      "cell_type": "markdown",
      "metadata": {
        "id": "o4ViG5aBEugF"
      },
      "source": [
        "## Global Sequence Alignment with Needleman-Wunsch"
      ]
    },
    {
      "cell_type": "markdown",
      "metadata": {
        "id": "Hgg0X8yyEugG"
      },
      "source": [
        "#### Understanding the Needleman-Wunsch algorithm\n",
        "\n",
        "Before we write code to accomplish a task, it's critical that we understand exactly what we are trying to do. For most algorithms, that means it is extremely important that we work a couple examples by hand before we try to code them. This might seem like extra work, but in fact saves **a ton** of time in the long run. \n",
        "\n",
        "Therefore, before we try to write code to do Needleman-Wunsch alignment, we're going to practice doing it by hand. Don't worry - after the first row or two it will become clear - even obvious - how to do the algorithm. \n",
        "\n",
        "> **Coding tip for complex code:** If you take the time to really experiment with each python data structure and understand how it works, and take the time to do an algorithm by hand so you understand how it works, and if you build your code step by step in small pieces that you can check as you go, then even very complex algorithms become much easier to put together.\n",
        "\n",
        "#### Performing the Needleman-Wunsch algorithm by hand\n",
        "\n",
        "Grab a piece of paper and a pen. We're going to read the Needleman-Wunsch algorithm description and implement it for a simple example on paper. \n",
        "\n",
        "##### Settle on a scoring scheme\n",
        "First, we need to settle on a scoring scheme that is based on how much we want to penalize insertion of indels ('-') vs. substitions (e.g. A --> G). We can choose to score all substitutions equally, or assign a different score to some substitutions (e.g. to reflect that biologically transitions are much more common than transversions). Generally, the more common insertions or deletions are biologically, the lower the gap penalty should be. Similarly, the more common substitutions are, the lower the substitution penalty should be. For simplicity in this example, we will use a very simple scoring scheme:\n",
        "\n",
        "- *Gap penalty* = -1 \n",
        "- *Match bonus (all matches)* = 1 \n",
        "- *Mismatch penalty (all substitutions)* = -1 \n",
        "\n",
        "\n",
        "###### Draw a table representing possible alignments\n",
        "Next, we need to draw two tables in which the nucleotides of sequence 1 are on the left side (i.e. they are the row labels) and the nucleotides of sequence 2 are on the top (i.e. they are the column labels). The first will be our 'score matrix' where we keep track of the best possible way to get to the point where each pair of nucletides line up. The second will be our traceback matrix, where we record the set of steps that got us to that optimal score. One trick is that we will have an extra gap ('-') character before each sequence (so the number of rows be one more than the length of sequence 1, and the number of columns will be one more than the length of sequence 2. At the end we will be able to walk back through the traceback matrix to get our optimal alignment.\n",
        "\n",
        "Here's an example of how the scoring matrix might look at the start of the algorithm:\n",
        "\n",
        "\n",
        "\n",
        "<img src=\"https://drive.google.com/uc?export=view&id=1IcgvloBPiE6FPeWKQwOaIeI6KZVZ7GO0\" width=\"400\" align=\"center\"  description=\"The image shows a table formed from the DNA sequence G C A T G C T on the x-axis (each column corresponds to one letter) and the sequence G A T T A C A on the y-axis. There is one extra blank row or column before each sequence. At this step, the table is blank. The two sequences are rainbow colored, with each nucleotide being a different color.\">"
      ]
    },
    {
      "cell_type": "markdown",
      "metadata": {
        "id": "JmuDitiUEugG"
      },
      "source": [
        "#### Intuition behind the layout of the scoring matrix\n",
        "\n",
        "One key insight of the Needleman-Wunsch alignment is that all the possible alignments of two sequences from left to right can be represented on this table as paths between the upper left of the table and the lower right of the table. \n",
        "\n",
        "**Meaning of diagonal moves.** If we start in the upper left corner and proceed digonally down the table, that represents an alignment in which we only use *substitutions* (mutations that change one nucleotide into another) to explain the differences between the two sequences. \n",
        "\n",
        "In our specific example, this would mean an alignment that looks like this:\n",
        "\n",
        "`1 GCATGCT     7\n",
        "   |  |\n",
        " 1 GATTACA     7\n",
        "`<br>\n",
        "This is a pretty bad alignment (only 2 matches and 5 mismatches). We'll improve on it in a moment, but can you see how the row/column labels you would encounter if you go from top left to bottom right in the table correspond to this alignment? If not, it may be worth trying it by hand step-by-step: the first cell you'd enter in the top left would have a G in both the row and the column. That represents the match between the G's in the top and bottom sequence in the alignment above. The next step would have a C in the column but an A in the row. That would represent the mismatch between C and A in the second position of the alignment. Mistmatches like this indicate that during evolution either the ancestor was a C and one sequence had a C --> A substitution in the bottom sequence, or the ancestor was an A and there was an A--> C substitution in the top sequence. \n",
        "\n",
        "\n",
        "More generally, any diagonal move we make in heading from the start to the end of the sequence means we are asserting that two nucleotides are homologous (share the same evolutionary origin) and are 'the same thing'. This type of move will improve the alignment score if the nucleotides are the same, but make it worse if they are different.\n",
        "\n",
        "**Meaning of moves to the right**\n",
        "Let's say after starting in the upper-left of the table we took one step to the right, *and then* proceeded as before to travel diagonally down the table. What would that mean for our alignment? If you try this with your finger on the table above, you'll see that the first cell you reach has column label G and now row label. This would indicate that the first G in our first sequence is paired with nothing ('-') in our second sequence. Biologically, this would indicate that the ancestral sequence either had a G and it was lost in the bottom sequence (a deletion) or that the G was added by mutation into the top sequence (an insertion). Now move your finger down and to the right. The next cell you encounter is no longer a pairing of G with G (as before) but now a pairing of the first G in the bottom sequence with the C in position 2 of the top sequence. Effectively, all our other pairings will be 'offset' by 1 due to the insertion in the left sequence.  This will change which positions look like matches vs. mismatches. The alignment corresponding to this 'horizontal 1 then diagonal' path would look like this:\n",
        "\n",
        "`1 GCATGCT-     8\n",
        "      |\n",
        " 1 -GATTACA     8\n",
        "`\n",
        "\n",
        "**Meaning of moves down**\n",
        "\n",
        "Just as moves to the right insert indel ('-') characters into the left (rows) sequence, moves down insert indel characters into the top (columns) sequence.\n",
        "\n",
        "> Needleman-Wunsch alignment represents all possible alignments of two sequences using a table. Any set of right, down or diagonal down and to the right moves represents a possible alignment of the two sequences. Diagonal paths represent matches or mismatches. Moves to the right insert an indel character into the second (rows) sequence, while moves down insert an indel character into the first (columns) sequence. Any move right or down changes which nucleotides match or mismatch in subsequent diagonal moves.\n",
        "\n",
        "\n"
      ]
    },
    {
      "cell_type": "markdown",
      "metadata": {
        "id": "A4JhV2zJEugH"
      },
      "source": [
        "## Step 1 Fill in first rows and columns\n",
        "\n",
        "Our first step will be to fill in a score of \"0\" in the upper left of the table. the first set of rows and columns. We said that each move to the right or down is an insertion/deletion event. \n",
        "\n",
        "Let's assume a 'gap penalty' of -1. This means each insertion or deletion event penalizes our score by 1 (similar to a mismatch between nucleotides). The score of each cell will be the score of the best path(s) to get to that cell.  \n",
        "\n",
        "<img src=\"https://drive.google.com/uc?export=view&id=1duoTUEzM7KH0xRxYI3Vh8H8OsHj07aZ4\" width=\"400\" align=\"center\"  description=\"The image shows a table formed from the DNA sequence G C A T G C T on the x-axis (each column corresponds to one letter) and the sequence G A T T A C A on the y-axis. There is one extra blank row or column before each sequence. The 1st row below the top sequence has numbers 0, -1, -2 up through -7 in the cells. The first column before the 2nd sequence also has the numbers 0, -1, -2, through -7 (from top to bottom) in the cells.\">"
      ]
    },
    {
      "cell_type": "markdown",
      "metadata": {
        "id": "gpC3m-uwEugH"
      },
      "source": [
        "## Step 2. Score  the first cell\n",
        "\n",
        "We will now fill in scores in the first row, working from left to right, following a couple of simple rules. Let's start with the first cell, with the G's on the columns and rows. We'll talk in depth about the rules for how to score this cell, then you can practice it on later cells.\n",
        "\n",
        "#### Calculate scores for the 3 possible moves that can lead to this cell\n",
        "\n",
        "For each cell we need to calculate 3 values, representing the 3 possible moves (down, right, or diagonal) that can get us to the current cell, to figure out which has the highest score and therefore the best path through the alignment to this spot. Let's do this one by one for the first cell.\n",
        "\n",
        "First let's calculate the score to get to the cell using a **down** move. This score will be equal to the score in the cell above plus the gap penalty. So for our first cell, the score above is -1, and the gap penalty is -1. So if we got to this spot by a down move (inserting an indel into the left sequence), the score would be -2.\n",
        "\n",
        "A move **to the right** also represents insertion of an indel. If our top left position was reached by such a move, it would have a score of -1 (the score in the cell to the left of our current cell) + the gap penalty of -1. So it would have a score of -2. \n",
        "\n",
        "Finally, the score could have been produced by a move **diagonally down** (representing a match between the two G's). The scoring for diagonal moves is to begin with the score diagonally above, then add the match bonus (here +1) if the two nucleotides in the row and column for that position match, or the mismatch penalty (here -1) for those two nucleotides if they don't match. In this case they do match, so the score for this move is 0 (the score of the cell above and to the left) + the match bonus of 1 = 1. \n",
        "\n",
        "###### Record the best scoring move\n",
        "Finally, we take the highest of these 3 scores and put it into the cell. This represents the best way that previous nucleotides in the two sequences could be aligned up to the current spot of the alignment - in other words the best path to this spot. We also draw an arrow to represent the direction of the best scoring move (here diagonal down). This can either be recorded in another table that is a copy of this one, or you can just draw the arrows into the corners of the cells like I've done below.\n",
        "\n",
        ">**The score of each cell in a Needleman Wunsch scoring matrix** is the *maximum score* produced by either:\n",
        ">Reaching it with a down move: score of cell above + gap penalty\n",
        ">Reacing it with a move to the right: score of cell to the left + gap penalty\n",
        ">Reacing it with a diagonal move: score of the cell above and to the left of this cell, + either the match bonus (if the row and column nucleotides match) or the mismatch penalty (if they don't).\n",
        "\n",
        "\n",
        "**What this result means**: In this case, the best score is produced by a diagonal (match or mismatch) move that matches the two G's for a score of 1. Biologically and intuitively this makes sense: if two sequences start with a G, a reasonable first step is to line up those G's. \n",
        "\n"
      ]
    },
    {
      "cell_type": "markdown",
      "metadata": {
        "id": "xFQHz3LNEugI"
      },
      "source": [
        "<img src=\"https://drive.google.com/uc?export=view&id=1lr58kzQ1IBAPMkOv0f0av-Ah_F-c7Ntw\" width=\"400\" align=\"center\"  description=\"The image shows a table formed from the DNA sequence G C A T G C T on the x-axis (each column corresponds to one letter) and the sequence G A T T A C A on the y-axis. There is one extra blank row or column before each sequence. The 1st row below the top sequence has numbers 0, -1, -2 up through -7 in the cells. The first column before the 2nd sequence also has the numbers 0, -1, -2, through -7 (from top to bottom) in the cells. The cell immediately diagonally down from the top left is marked '1'.\">"
      ]
    },
    {
      "cell_type": "markdown",
      "metadata": {
        "id": "ay4Y0Z-VEugI"
      },
      "source": [
        "### Step 3. Repeat for the rest of the cells in the table\n",
        "\n",
        "Repeat the process from Step 2 above to score all the other cells in the table. Here's how that would look after the first row (I've omitted all the arrows to make the table a little less dense):"
      ]
    },
    {
      "cell_type": "markdown",
      "metadata": {
        "id": "YTvM3SZtEugJ"
      },
      "source": [
        "\n",
        "<img src=\"https://drive.google.com/uc?export=view&id=1prhH4SEThXOVmAO0k2s8sB-IGkLoYxEi\" width=\"400\" align=\"center\"  description=\"The image shows a table formed from the DNA sequence G C A T G C T on the x-axis (each column corresponds to one letter) and the sequence G A T T A C A on the y-axis. There is one extra blank row or column before each sequence. The 1st row below the top sequence has numbers 0, -1, -2 up through -7 in the cells. The first column before the 2nd sequence also has the numbers 0, -1, -2, through -7 (from top to bottom) in the cells.\">"
      ]
    },
    {
      "cell_type": "markdown",
      "metadata": {
        "id": "h1rYOct_EugJ"
      },
      "source": [
        "### Step 4. Trace back through the matrix to find the optimal alignment\n",
        "\n",
        "Finally, start in the lower right of the alignment. Step to the cell that has the highest score and is either above, to the left or diagonal up and to the left of the current cell. Each time you step diagonally, record a match or mismatch between the row & diagonal sequences. \n",
        "\n",
        "Whenever you move up, record an indel in the left sequence. Whenever you move right, record an indel in the top sequence. If you move diagonally, record each nucleotide in it's respective sequence.\n",
        "\n",
        "So for the first move (a diagonal), we'd record:\n",
        "\n",
        "`\n",
        "T\n",
        "A\n",
        "`\n",
        "\n",
        "Since these are the nucleotides in the lower left.\n",
        "\n",
        "After completing the full traceback, we would finally we would arrive at:\n",
        "\n",
        "`\n",
        "GCAT-GCT\n",
        "| ||\n",
        "G-ATTACA\n",
        "`\n"
      ]
    },
    {
      "cell_type": "markdown",
      "metadata": {
        "id": "1jVGttqJEugJ"
      },
      "source": [
        "https://drive.google.com/file/d/1xaIsO4qTYPZLL55g8qWQUZ6CNV-mJrDt/view?usp=sharing\n",
        "\n",
        "<img src=\"https://drive.google.com/uc?export=view&id=1xaIsO4qTYPZLL55g8qWQUZ6CNV-mJrDt\" width=\"400\" align=\"center\"  description=\"The image shows a table formed from the DNA sequence G C A T G C T on the x-axis (each column corresponds to one letter) and the sequence G A T T A C A on the y-axis. There is one extra blank row or column before each sequence. The 1st row below the top sequence has numbers 0, -1, -2 up through -7 in the cells. The first column before the 2nd sequence also has the numbers 0, -1, -2, through -7 (from top to bottom) in the cells.\">"
      ]
    },
    {
      "cell_type": "markdown",
      "metadata": {
        "id": "H6jWVWKdEugJ"
      },
      "source": [
        "##Tutorial-4\n",
        "## Implementing Needleman-Wunsch global alignment in python.\n",
        "\n",
        "Implementing Needleman-Wunsch alignment by hand is a fairly complex task, with several components. Therefore, to get it right, we have to be gentle on ourselves by breaking it up into many smaller tasks. That way we won't get overwhelmed by the overall algorithm and can just focus on ensuring that each piece works.\n",
        "\n",
        "##### Setting up the scoring and traceback arrays\n",
        "\n",
        "When we did the algorithm by hand, our first step was to draw some tables. In python we will instead use numpy arrays. So our first task is to make two arrays that will represent our tables: one that is an array of numbers (for the scores) and one that is an array of strings (for the arrows). \n"
      ]
    },
    {
      "cell_type": "code",
      "execution_count": 18,
      "metadata": {
        "id": "EYt7SoYPEugK",
        "colab": {
          "base_uri": "https://localhost:8080/"
        },
        "outputId": "887c5ffc-b2e0-4e9e-a0b8-3831c1d469bf"
      },
      "outputs": [
        {
          "output_type": "stream",
          "name": "stdout",
          "text": [
            "Scoring array:\n",
            " [[0 0 0 0 0 0 0 0]\n",
            " [0 0 0 0 0 0 0 0]\n",
            " [0 0 0 0 0 0 0 0]\n",
            " [0 0 0 0 0 0 0 0]\n",
            " [0 0 0 0 0 0 0 0]\n",
            " [0 0 0 0 0 0 0 0]\n",
            " [0 0 0 0 0 0 0 0]\n",
            " [0 0 0 0 0 0 0 0]]\n",
            "Traceback array:\n",
            " [['-' '-' '-' '-' '-' '-' '-' '-']\n",
            " ['-' '-' '-' '-' '-' '-' '-' '-']\n",
            " ['-' '-' '-' '-' '-' '-' '-' '-']\n",
            " ['-' '-' '-' '-' '-' '-' '-' '-']\n",
            " ['-' '-' '-' '-' '-' '-' '-' '-']\n",
            " ['-' '-' '-' '-' '-' '-' '-' '-']\n",
            " ['-' '-' '-' '-' '-' '-' '-' '-']\n",
            " ['-' '-' '-' '-' '-' '-' '-' '-']]\n"
          ]
        }
      ],
      "source": [
        "from numpy import full\n",
        "\n",
        "#build an array of zeroes\n",
        "seq1 = \"GCATGCT\"\n",
        "seq2 = \"GATACCA\"\n",
        "\n",
        "n_rows = len(\"-\"+seq1)\n",
        "n_columns = len(\"-\"+seq2)\n",
        "\n",
        "scoring_array = full([n_rows,n_columns],0)\n",
        "print(\"Scoring array:\\n\",scoring_array)\n",
        "\n",
        "traceback_array = full([n_rows,n_columns],\"-\")\n",
        "print(\"Traceback array:\\n\",traceback_array)"
      ]
    },
    {
      "cell_type": "markdown",
      "metadata": {
        "id": "xkIPBjtGEugL"
      },
      "source": [
        "## Making the scoring array easier to read\n",
        "\n",
        "To make the scoring array easier to read, we can write a quick function to turn it into an HTML table. It isn't very important to understand this function. I show it for completeness, but it's mostly just to make the rest output prettier results that are easier to follow. \n",
        "\n",
        "Basically, we're creating a new pandas DataFrame object from our 2d array, and setting the sequences as its row and column names. Pandas DataFrames already have a built in `to_html` function that turns them into pretty HTML output. So we just call that function, and then show the result using IPython's HTML function.\n",
        "\n",
        "(And no, I did not just magically know or remember all this! Despite having done this before, I absolutely had to google how to do this from [StackOverflow](https://stackoverflow.com/questions/25698448/how-to-embed-html-into-ipython-output))."
      ]
    },
    {
      "cell_type": "code",
      "execution_count": 19,
      "metadata": {
        "id": "LycNCZYHEugL"
      },
      "outputs": [],
      "source": [
        "from IPython.core.display import HTML,display\n",
        "import pandas as pd\n",
        "\n",
        "def pretty_table_from_array(data_array, row_labels,col_labels):\n",
        "    \"\"\"Show an HTML table from a 2d numpy array\"\"\"\n",
        "    df = pd.DataFrame(data_array,index=row_labels,columns=col_labels)\n",
        "    table_html = df.to_html()\n",
        "    return HTML(table_html)"
      ]
    },
    {
      "cell_type": "code",
      "execution_count": 20,
      "metadata": {
        "scrolled": true,
        "id": "Ri8A1aUqEugL",
        "colab": {
          "base_uri": "https://localhost:8080/",
          "height": 619
        },
        "outputId": "1a84f9b3-0d42-4671-a6fc-cb708e5c3207"
      },
      "outputs": [
        {
          "output_type": "stream",
          "name": "stdout",
          "text": [
            "Scoring array:\n"
          ]
        },
        {
          "output_type": "display_data",
          "data": {
            "text/plain": [
              "<IPython.core.display.HTML object>"
            ],
            "text/html": [
              "<table border=\"1\" class=\"dataframe\">\n",
              "  <thead>\n",
              "    <tr style=\"text-align: right;\">\n",
              "      <th></th>\n",
              "      <th>-</th>\n",
              "      <th>G</th>\n",
              "      <th>A</th>\n",
              "      <th>T</th>\n",
              "      <th>A</th>\n",
              "      <th>C</th>\n",
              "      <th>C</th>\n",
              "      <th>A</th>\n",
              "    </tr>\n",
              "  </thead>\n",
              "  <tbody>\n",
              "    <tr>\n",
              "      <th>-</th>\n",
              "      <td>0</td>\n",
              "      <td>0</td>\n",
              "      <td>0</td>\n",
              "      <td>0</td>\n",
              "      <td>0</td>\n",
              "      <td>0</td>\n",
              "      <td>0</td>\n",
              "      <td>0</td>\n",
              "    </tr>\n",
              "    <tr>\n",
              "      <th>G</th>\n",
              "      <td>0</td>\n",
              "      <td>0</td>\n",
              "      <td>0</td>\n",
              "      <td>0</td>\n",
              "      <td>0</td>\n",
              "      <td>0</td>\n",
              "      <td>0</td>\n",
              "      <td>0</td>\n",
              "    </tr>\n",
              "    <tr>\n",
              "      <th>C</th>\n",
              "      <td>0</td>\n",
              "      <td>0</td>\n",
              "      <td>0</td>\n",
              "      <td>0</td>\n",
              "      <td>0</td>\n",
              "      <td>0</td>\n",
              "      <td>0</td>\n",
              "      <td>0</td>\n",
              "    </tr>\n",
              "    <tr>\n",
              "      <th>A</th>\n",
              "      <td>0</td>\n",
              "      <td>0</td>\n",
              "      <td>0</td>\n",
              "      <td>0</td>\n",
              "      <td>0</td>\n",
              "      <td>0</td>\n",
              "      <td>0</td>\n",
              "      <td>0</td>\n",
              "    </tr>\n",
              "    <tr>\n",
              "      <th>T</th>\n",
              "      <td>0</td>\n",
              "      <td>0</td>\n",
              "      <td>0</td>\n",
              "      <td>0</td>\n",
              "      <td>0</td>\n",
              "      <td>0</td>\n",
              "      <td>0</td>\n",
              "      <td>0</td>\n",
              "    </tr>\n",
              "    <tr>\n",
              "      <th>G</th>\n",
              "      <td>0</td>\n",
              "      <td>0</td>\n",
              "      <td>0</td>\n",
              "      <td>0</td>\n",
              "      <td>0</td>\n",
              "      <td>0</td>\n",
              "      <td>0</td>\n",
              "      <td>0</td>\n",
              "    </tr>\n",
              "    <tr>\n",
              "      <th>C</th>\n",
              "      <td>0</td>\n",
              "      <td>0</td>\n",
              "      <td>0</td>\n",
              "      <td>0</td>\n",
              "      <td>0</td>\n",
              "      <td>0</td>\n",
              "      <td>0</td>\n",
              "      <td>0</td>\n",
              "    </tr>\n",
              "    <tr>\n",
              "      <th>T</th>\n",
              "      <td>0</td>\n",
              "      <td>0</td>\n",
              "      <td>0</td>\n",
              "      <td>0</td>\n",
              "      <td>0</td>\n",
              "      <td>0</td>\n",
              "      <td>0</td>\n",
              "      <td>0</td>\n",
              "    </tr>\n",
              "  </tbody>\n",
              "</table>"
            ]
          },
          "metadata": {}
        },
        {
          "output_type": "stream",
          "name": "stdout",
          "text": [
            "Traceback array:\n"
          ]
        },
        {
          "output_type": "display_data",
          "data": {
            "text/plain": [
              "<IPython.core.display.HTML object>"
            ],
            "text/html": [
              "<table border=\"1\" class=\"dataframe\">\n",
              "  <thead>\n",
              "    <tr style=\"text-align: right;\">\n",
              "      <th></th>\n",
              "      <th>-</th>\n",
              "      <th>G</th>\n",
              "      <th>A</th>\n",
              "      <th>T</th>\n",
              "      <th>A</th>\n",
              "      <th>C</th>\n",
              "      <th>C</th>\n",
              "      <th>A</th>\n",
              "    </tr>\n",
              "  </thead>\n",
              "  <tbody>\n",
              "    <tr>\n",
              "      <th>-</th>\n",
              "      <td>-</td>\n",
              "      <td>-</td>\n",
              "      <td>-</td>\n",
              "      <td>-</td>\n",
              "      <td>-</td>\n",
              "      <td>-</td>\n",
              "      <td>-</td>\n",
              "      <td>-</td>\n",
              "    </tr>\n",
              "    <tr>\n",
              "      <th>G</th>\n",
              "      <td>-</td>\n",
              "      <td>-</td>\n",
              "      <td>-</td>\n",
              "      <td>-</td>\n",
              "      <td>-</td>\n",
              "      <td>-</td>\n",
              "      <td>-</td>\n",
              "      <td>-</td>\n",
              "    </tr>\n",
              "    <tr>\n",
              "      <th>C</th>\n",
              "      <td>-</td>\n",
              "      <td>-</td>\n",
              "      <td>-</td>\n",
              "      <td>-</td>\n",
              "      <td>-</td>\n",
              "      <td>-</td>\n",
              "      <td>-</td>\n",
              "      <td>-</td>\n",
              "    </tr>\n",
              "    <tr>\n",
              "      <th>A</th>\n",
              "      <td>-</td>\n",
              "      <td>-</td>\n",
              "      <td>-</td>\n",
              "      <td>-</td>\n",
              "      <td>-</td>\n",
              "      <td>-</td>\n",
              "      <td>-</td>\n",
              "      <td>-</td>\n",
              "    </tr>\n",
              "    <tr>\n",
              "      <th>T</th>\n",
              "      <td>-</td>\n",
              "      <td>-</td>\n",
              "      <td>-</td>\n",
              "      <td>-</td>\n",
              "      <td>-</td>\n",
              "      <td>-</td>\n",
              "      <td>-</td>\n",
              "      <td>-</td>\n",
              "    </tr>\n",
              "    <tr>\n",
              "      <th>G</th>\n",
              "      <td>-</td>\n",
              "      <td>-</td>\n",
              "      <td>-</td>\n",
              "      <td>-</td>\n",
              "      <td>-</td>\n",
              "      <td>-</td>\n",
              "      <td>-</td>\n",
              "      <td>-</td>\n",
              "    </tr>\n",
              "    <tr>\n",
              "      <th>C</th>\n",
              "      <td>-</td>\n",
              "      <td>-</td>\n",
              "      <td>-</td>\n",
              "      <td>-</td>\n",
              "      <td>-</td>\n",
              "      <td>-</td>\n",
              "      <td>-</td>\n",
              "      <td>-</td>\n",
              "    </tr>\n",
              "    <tr>\n",
              "      <th>T</th>\n",
              "      <td>-</td>\n",
              "      <td>-</td>\n",
              "      <td>-</td>\n",
              "      <td>-</td>\n",
              "      <td>-</td>\n",
              "      <td>-</td>\n",
              "      <td>-</td>\n",
              "      <td>-</td>\n",
              "    </tr>\n",
              "  </tbody>\n",
              "</table>"
            ]
          },
          "metadata": {}
        }
      ],
      "source": [
        "\n",
        "row_labels = [label for label in \"-\"+seq1]\n",
        "column_labels = [label for label in \"-\"+seq2]\n",
        "\n",
        "print(\"Scoring array:\")\n",
        "display(pretty_table_from_array(scoring_array,row_labels,column_labels))\n",
        "print(\"Traceback array:\")\n",
        "display(pretty_table_from_array(traceback_array,row_labels,column_labels))"
      ]
    },
    {
      "cell_type": "markdown",
      "metadata": {
        "id": "9HY0nnxfEugL"
      },
      "source": [
        "### How to iterate over our array using nested for loops\n",
        "\n",
        "Before we try to write actual alignment code, let's make sure we're comfortable iterating over the cells of our array. Basically this means setting up code that lets us visit each cell in the array one by one - like running our finger along a table to read each row one by one from top to bottom. \n",
        "\n",
        "To visit a cell in the table, we need it's *index*, which is the row and column number for that cell. So to visit all the cells, our main challenge is to generate each row and column number one by one. To do this we will set up an outer `for` loop that iterates over each row one by one, setting each row number to a variable (here I call this variable `row_index`, but `i` is most commonly used in real code). Within each loop over the row numbers, an inner `for` loop iterates over each column number one by one and sets its value to a variable (here I use `col_index`, but `j` is most typically used in real code). Inside both loops, we will have a value for the current row and column number. We can use these to index into the scoring array using array indexing (`scoring_array[row_index,column_index]`). \n",
        "\n",
        "In the short code snippet below, let's practice this setup, and use it to number each cell of the array by the order in which we visit it. This can help show us visually what order our code is visiting the cells of our array."
      ]
    },
    {
      "cell_type": "code",
      "execution_count": 21,
      "metadata": {
        "id": "7vpUrZPFEugL",
        "colab": {
          "base_uri": "https://localhost:8080/",
          "height": 300
        },
        "outputId": "5fd78b10-260e-482a-da0a-129cee791a9b"
      },
      "outputs": [
        {
          "output_type": "display_data",
          "data": {
            "text/plain": [
              "<IPython.core.display.HTML object>"
            ],
            "text/html": [
              "<table border=\"1\" class=\"dataframe\">\n",
              "  <thead>\n",
              "    <tr style=\"text-align: right;\">\n",
              "      <th></th>\n",
              "      <th>-</th>\n",
              "      <th>G</th>\n",
              "      <th>A</th>\n",
              "      <th>T</th>\n",
              "      <th>A</th>\n",
              "      <th>C</th>\n",
              "      <th>C</th>\n",
              "      <th>A</th>\n",
              "    </tr>\n",
              "  </thead>\n",
              "  <tbody>\n",
              "    <tr>\n",
              "      <th>-</th>\n",
              "      <td>0</td>\n",
              "      <td>1</td>\n",
              "      <td>2</td>\n",
              "      <td>3</td>\n",
              "      <td>4</td>\n",
              "      <td>5</td>\n",
              "      <td>6</td>\n",
              "      <td>7</td>\n",
              "    </tr>\n",
              "    <tr>\n",
              "      <th>G</th>\n",
              "      <td>8</td>\n",
              "      <td>9</td>\n",
              "      <td>10</td>\n",
              "      <td>11</td>\n",
              "      <td>12</td>\n",
              "      <td>13</td>\n",
              "      <td>14</td>\n",
              "      <td>15</td>\n",
              "    </tr>\n",
              "    <tr>\n",
              "      <th>C</th>\n",
              "      <td>16</td>\n",
              "      <td>17</td>\n",
              "      <td>18</td>\n",
              "      <td>19</td>\n",
              "      <td>20</td>\n",
              "      <td>21</td>\n",
              "      <td>22</td>\n",
              "      <td>23</td>\n",
              "    </tr>\n",
              "    <tr>\n",
              "      <th>A</th>\n",
              "      <td>24</td>\n",
              "      <td>25</td>\n",
              "      <td>26</td>\n",
              "      <td>27</td>\n",
              "      <td>28</td>\n",
              "      <td>29</td>\n",
              "      <td>30</td>\n",
              "      <td>31</td>\n",
              "    </tr>\n",
              "    <tr>\n",
              "      <th>T</th>\n",
              "      <td>32</td>\n",
              "      <td>33</td>\n",
              "      <td>34</td>\n",
              "      <td>35</td>\n",
              "      <td>36</td>\n",
              "      <td>37</td>\n",
              "      <td>38</td>\n",
              "      <td>39</td>\n",
              "    </tr>\n",
              "    <tr>\n",
              "      <th>G</th>\n",
              "      <td>40</td>\n",
              "      <td>41</td>\n",
              "      <td>42</td>\n",
              "      <td>43</td>\n",
              "      <td>44</td>\n",
              "      <td>45</td>\n",
              "      <td>46</td>\n",
              "      <td>47</td>\n",
              "    </tr>\n",
              "    <tr>\n",
              "      <th>C</th>\n",
              "      <td>48</td>\n",
              "      <td>49</td>\n",
              "      <td>50</td>\n",
              "      <td>51</td>\n",
              "      <td>52</td>\n",
              "      <td>53</td>\n",
              "      <td>54</td>\n",
              "      <td>55</td>\n",
              "    </tr>\n",
              "    <tr>\n",
              "      <th>T</th>\n",
              "      <td>56</td>\n",
              "      <td>57</td>\n",
              "      <td>58</td>\n",
              "      <td>59</td>\n",
              "      <td>60</td>\n",
              "      <td>61</td>\n",
              "      <td>62</td>\n",
              "      <td>63</td>\n",
              "    </tr>\n",
              "  </tbody>\n",
              "</table>"
            ]
          },
          "metadata": {}
        }
      ],
      "source": [
        "count = 0\n",
        "for row_index in range(n_rows):\n",
        "    for col_index in range(n_columns):    \n",
        "        scoring_array[row_index,col_index] = count\n",
        "        count += 1\n",
        "        \n",
        "display(pretty_table_from_array(scoring_array,row_labels,column_labels))"
      ]
    },
    {
      "cell_type": "markdown",
      "metadata": {
        "id": "uIHp252-EugL"
      },
      "source": [
        "Because our `for` loop iterating over rows is on the outside, we first visit the 0th row, then the inner loop triggers and we visit each column in that row (cells marked 0-7)\n",
        "Then we visit the next row, and the process repeats (cells marked 8-15). The loops continue until we hit the bottom of the array (cell marked 63).\n",
        "Note that even though there are 8 rows and 8 columns, the number in the final cell (63) is one less than 8x8 = 64 because we are counting from zero.\n",
        "\n",
        "**Stop for a moment and try swapping the order of the for loops** (so the line `for col_index in range(n_columns)` comes first). Now rerun the code. How does this affect the order in which the cells are visited?\n",
        "\n"
      ]
    },
    {
      "cell_type": "markdown",
      "metadata": {
        "id": "AwAH8x7eEugM"
      },
      "source": [
        "#### How to draw pretty Unicode arrows for use in the traceback array\n",
        "\n",
        "Eventually we will need to be able to *trace back* the path we took through the scoring array. To do this we will use special unicode characters to draw pretty arrows representing our steps.\n",
        "\n",
        "Note that such unicode symbols can also be used to type Braille characters, etc.\n",
        "Official documentation on Unicode symbols is available [here](http://www.unicode.org/charts/#symbols).\n",
        "\n",
        "[This](http://xahlee.info/comp/unicode_index.html) searchable gallery may also be of interest.                                                         \n",
        "           \n",
        "In python 3, special Unicode charcters can be accessed with \\u (for Unicode) and then the number of that character in the Unicode system (which you look up from one of the resources above).\n",
        "\n",
        "Before we use them in anything fancy, let's try accessing Unicode and printing them out.\n"
      ]
    },
    {
      "cell_type": "code",
      "execution_count": 22,
      "metadata": {
        "id": "NHPQHxN-EugM",
        "colab": {
          "base_uri": "https://localhost:8080/"
        },
        "outputId": "f97edced-530a-4352-c6c0-c6f48a714322"
      },
      "outputs": [
        {
          "output_type": "stream",
          "name": "stdout",
          "text": [
            "Up arrow ↑\n",
            "Left arrow ←\n",
            "Up Left arrow ↖\n"
          ]
        }
      ],
      "source": [
        "up_arrow = \"\\u2191\"\n",
        "right_arrow = \"\\u2192\"\n",
        "down_arrow = \"\\u2193\"\n",
        "left_arrow = \"\\u2190\"\n",
        "down_right_arrow = \"\\u2198\"\n",
        "up_left_arrow = \"\\u2196\"\n",
        "\n",
        "print(\"Up arrow\",up_arrow)\n",
        "print(\"Left arrow\",left_arrow)\n",
        "print(\"Up Left arrow\",up_left_arrow)\n"
      ]
    },
    {
      "cell_type": "markdown",
      "metadata": {
        "id": "g5kAJugaEugM"
      },
      "source": [
        "#### Implementing the Needleman-Wunsch algorithm\n",
        "\n",
        "Now that we know how to iterate over the cells of an array, we can begin to implement the Needleman-Wunsch algorithm to fill in the scoring array.\n",
        "\n",
        "When we first calculate our scoring matrix, we can also keep track in a second identically shaped matrix of the directions we have moved. This extra bookkeeping will prevent us from having to re-infer all this information at the end of the process. "
      ]
    },
    {
      "cell_type": "code",
      "execution_count": 23,
      "metadata": {
        "scrolled": true,
        "id": "ku7cNhcQEugM",
        "colab": {
          "base_uri": "https://localhost:8080/",
          "height": 583
        },
        "outputId": "7295ca32-4825-4fe3-b8d4-633de58be562"
      },
      "outputs": [
        {
          "output_type": "display_data",
          "data": {
            "text/plain": [
              "<IPython.core.display.HTML object>"
            ],
            "text/html": [
              "<table border=\"1\" class=\"dataframe\">\n",
              "  <thead>\n",
              "    <tr style=\"text-align: right;\">\n",
              "      <th></th>\n",
              "      <th>-</th>\n",
              "      <th>G</th>\n",
              "      <th>A</th>\n",
              "      <th>T</th>\n",
              "      <th>A</th>\n",
              "      <th>C</th>\n",
              "      <th>C</th>\n",
              "      <th>A</th>\n",
              "    </tr>\n",
              "  </thead>\n",
              "  <tbody>\n",
              "    <tr>\n",
              "      <th>-</th>\n",
              "      <td>0</td>\n",
              "      <td>-1</td>\n",
              "      <td>-2</td>\n",
              "      <td>-3</td>\n",
              "      <td>-4</td>\n",
              "      <td>-5</td>\n",
              "      <td>-6</td>\n",
              "      <td>-7</td>\n",
              "    </tr>\n",
              "    <tr>\n",
              "      <th>G</th>\n",
              "      <td>-1</td>\n",
              "      <td>1</td>\n",
              "      <td>0</td>\n",
              "      <td>-1</td>\n",
              "      <td>-2</td>\n",
              "      <td>-3</td>\n",
              "      <td>-4</td>\n",
              "      <td>-5</td>\n",
              "    </tr>\n",
              "    <tr>\n",
              "      <th>C</th>\n",
              "      <td>-2</td>\n",
              "      <td>0</td>\n",
              "      <td>0</td>\n",
              "      <td>-1</td>\n",
              "      <td>-2</td>\n",
              "      <td>-1</td>\n",
              "      <td>-2</td>\n",
              "      <td>-3</td>\n",
              "    </tr>\n",
              "    <tr>\n",
              "      <th>A</th>\n",
              "      <td>-3</td>\n",
              "      <td>-1</td>\n",
              "      <td>1</td>\n",
              "      <td>0</td>\n",
              "      <td>0</td>\n",
              "      <td>-1</td>\n",
              "      <td>-2</td>\n",
              "      <td>-1</td>\n",
              "    </tr>\n",
              "    <tr>\n",
              "      <th>T</th>\n",
              "      <td>-4</td>\n",
              "      <td>-2</td>\n",
              "      <td>0</td>\n",
              "      <td>2</td>\n",
              "      <td>1</td>\n",
              "      <td>0</td>\n",
              "      <td>-1</td>\n",
              "      <td>-2</td>\n",
              "    </tr>\n",
              "    <tr>\n",
              "      <th>G</th>\n",
              "      <td>-5</td>\n",
              "      <td>-3</td>\n",
              "      <td>-1</td>\n",
              "      <td>1</td>\n",
              "      <td>1</td>\n",
              "      <td>0</td>\n",
              "      <td>-1</td>\n",
              "      <td>-2</td>\n",
              "    </tr>\n",
              "    <tr>\n",
              "      <th>C</th>\n",
              "      <td>-6</td>\n",
              "      <td>-4</td>\n",
              "      <td>-2</td>\n",
              "      <td>0</td>\n",
              "      <td>0</td>\n",
              "      <td>2</td>\n",
              "      <td>1</td>\n",
              "      <td>0</td>\n",
              "    </tr>\n",
              "    <tr>\n",
              "      <th>T</th>\n",
              "      <td>-7</td>\n",
              "      <td>-5</td>\n",
              "      <td>-3</td>\n",
              "      <td>-1</td>\n",
              "      <td>-1</td>\n",
              "      <td>1</td>\n",
              "      <td>1</td>\n",
              "      <td>0</td>\n",
              "    </tr>\n",
              "  </tbody>\n",
              "</table>"
            ]
          },
          "metadata": {}
        },
        {
          "output_type": "display_data",
          "data": {
            "text/plain": [
              "<IPython.core.display.HTML object>"
            ],
            "text/html": [
              "<table border=\"1\" class=\"dataframe\">\n",
              "  <thead>\n",
              "    <tr style=\"text-align: right;\">\n",
              "      <th></th>\n",
              "      <th>-</th>\n",
              "      <th>G</th>\n",
              "      <th>A</th>\n",
              "      <th>T</th>\n",
              "      <th>A</th>\n",
              "      <th>C</th>\n",
              "      <th>C</th>\n",
              "      <th>A</th>\n",
              "    </tr>\n",
              "  </thead>\n",
              "  <tbody>\n",
              "    <tr>\n",
              "      <th>-</th>\n",
              "      <td>-</td>\n",
              "      <td>←</td>\n",
              "      <td>←</td>\n",
              "      <td>←</td>\n",
              "      <td>←</td>\n",
              "      <td>←</td>\n",
              "      <td>←</td>\n",
              "      <td>←</td>\n",
              "    </tr>\n",
              "    <tr>\n",
              "      <th>G</th>\n",
              "      <td>↑</td>\n",
              "      <td>↖</td>\n",
              "      <td>←</td>\n",
              "      <td>←</td>\n",
              "      <td>←</td>\n",
              "      <td>←</td>\n",
              "      <td>←</td>\n",
              "      <td>←</td>\n",
              "    </tr>\n",
              "    <tr>\n",
              "      <th>C</th>\n",
              "      <td>↑</td>\n",
              "      <td>↑</td>\n",
              "      <td>↖</td>\n",
              "      <td>←</td>\n",
              "      <td>←</td>\n",
              "      <td>↖</td>\n",
              "      <td>←</td>\n",
              "      <td>←</td>\n",
              "    </tr>\n",
              "    <tr>\n",
              "      <th>A</th>\n",
              "      <td>↑</td>\n",
              "      <td>↑</td>\n",
              "      <td>↖</td>\n",
              "      <td>←</td>\n",
              "      <td>↖</td>\n",
              "      <td>←</td>\n",
              "      <td>←</td>\n",
              "      <td>↖</td>\n",
              "    </tr>\n",
              "    <tr>\n",
              "      <th>T</th>\n",
              "      <td>↑</td>\n",
              "      <td>↑</td>\n",
              "      <td>↑</td>\n",
              "      <td>↖</td>\n",
              "      <td>←</td>\n",
              "      <td>←</td>\n",
              "      <td>←</td>\n",
              "      <td>←</td>\n",
              "    </tr>\n",
              "    <tr>\n",
              "      <th>G</th>\n",
              "      <td>↑</td>\n",
              "      <td>↑</td>\n",
              "      <td>↑</td>\n",
              "      <td>↑</td>\n",
              "      <td>↖</td>\n",
              "      <td>←</td>\n",
              "      <td>←</td>\n",
              "      <td>←</td>\n",
              "    </tr>\n",
              "    <tr>\n",
              "      <th>C</th>\n",
              "      <td>↑</td>\n",
              "      <td>↑</td>\n",
              "      <td>↑</td>\n",
              "      <td>↑</td>\n",
              "      <td>↑</td>\n",
              "      <td>↖</td>\n",
              "      <td>←</td>\n",
              "      <td>←</td>\n",
              "    </tr>\n",
              "    <tr>\n",
              "      <th>T</th>\n",
              "      <td>↑</td>\n",
              "      <td>↑</td>\n",
              "      <td>↑</td>\n",
              "      <td>↑</td>\n",
              "      <td>↑</td>\n",
              "      <td>↑</td>\n",
              "      <td>↖</td>\n",
              "      <td>←</td>\n",
              "    </tr>\n",
              "  </tbody>\n",
              "</table>"
            ]
          },
          "metadata": {}
        }
      ],
      "source": [
        "#build an array of zeroes\n",
        "n_rows = len(seq1) + 1 #need an extra row up top\n",
        "n_columns = len(seq2) + 1 #need an extra column on the left\n",
        "row_labels = [label for label in \"-\"+seq1]\n",
        "column_labels = [label for label in \"-\"+seq2]\n",
        "\n",
        "\n",
        "scoring_array = full([n_rows,n_columns],0)\n",
        "traceback_array = full([n_rows,n_columns],\"-\")\n",
        "\n",
        "\n",
        "#Define Unicode arrows we'll use in the traceback array\n",
        "up_arrow = \"\\u2191\"\n",
        "right_arrow = \"\\u2192\"\n",
        "down_arrow = \"\\u2193\"\n",
        "left_arrow = \"\\u2190\"\n",
        "down_right_arrow = \"\\u2198\"\n",
        "up_left_arrow = \"\\u2196\"\n",
        "\n",
        "arrow = \"-\"\n",
        "gap_penalty = -1\n",
        "match_bonus = 1\n",
        "mismatch_penalty = -1\n",
        "#iterate over columns first because we want to do \n",
        "# all the columns for row 1 before row 2\n",
        "for row in range(n_rows):\n",
        "    for col in range(n_columns):        \n",
        "        if row == 0 and col == 0:\n",
        "            #We're in the upper right corner\n",
        "            score = 0\n",
        "            arrow = \"-\"\n",
        "        elif row == 0:\n",
        "            #We're on the first row\n",
        "            #but NOT in the corner\n",
        "            \n",
        "            #Look up the score of the previous cell (to the left) in the score array\\\n",
        "            previous_score = scoring_array[row,col - 1]\n",
        "            # add the gap penalty to it's score\n",
        "            score = previous_score + gap_penalty\n",
        "            arrow = left_arrow\n",
        "        elif col == 0:\n",
        "            #We're on the first column but not in the first row\n",
        "            previous_score = scoring_array[row -1,col]\n",
        "            score = previous_score + gap_penalty\n",
        "            arrow = up_arrow\n",
        "        else: \n",
        "            #We're in a 'middle' cell of the alignment\n",
        "            \n",
        "            #Calculate the scores for coming from above,\n",
        "            #from the left, (representing an insertion into seq1)\n",
        "            cell_to_the_left = scoring_array[row,col-1]\n",
        "            from_left_score = cell_to_the_left + gap_penalty\n",
        "             \n",
        "            #or from above (representing an insertion into seq2)\n",
        "            above_cell = scoring_array[row-1,col]\n",
        "            from_above_score = above_cell + gap_penalty\n",
        "            \n",
        "            #diagonal cell, representing a substitution (e.g. A --> T)\n",
        "            diagonal_left_cell = scoring_array[row-1,col-1]\n",
        "            \n",
        "            #NOTE: since the table has an extra row and column (the blank ones), \n",
        "            #when indexing back to the sequence we want row -1 and col - 1.\n",
        "            #since row 1 represents character 0 of the sequence.\n",
        "            if seq1[row-1] == seq2[col-1]:\n",
        "                diagonal_left_cell_score = diagonal_left_cell + match_bonus\n",
        "            else:\n",
        "                diagonal_left_cell_score = diagonal_left_cell + mismatch_penalty\n",
        "            \n",
        "            score = max([from_left_score,from_above_score,diagonal_left_cell_score]) \n",
        "            #take the max\n",
        "            \n",
        "            #make note of which cell was the max in the traceback array \n",
        "            #using Unicode arrows\n",
        "            if score == from_left_score:\n",
        "                arrow = left_arrow\n",
        "            elif score == from_above_score:\n",
        "                arrow = up_arrow\n",
        "            elif score == diagonal_left_cell_score:\n",
        "                arrow = up_left_arrow\n",
        "                \n",
        "        traceback_array[row,col]=arrow    \n",
        "        scoring_array[row,col] = score\n",
        "        \n",
        "display(pretty_table_from_array(scoring_array,row_labels,column_labels))  \n",
        "display(pretty_table_from_array(traceback_array,row_labels,column_labels))"
      ]
    },
    {
      "cell_type": "markdown",
      "metadata": {
        "id": "X4FyDQd-EugM"
      },
      "source": [
        "The scoring array shown above can now be read as a map that show better or worse paths through the alignment of seq1 and seq2, with higher numbers representing better paths. \n",
        "\n",
        "There are a couple of rules for interpreting our matrix. They may or may not be intuitive at first, but if we follow them we can reconstruct all the optimal alignments from our matrix. \n",
        "\n",
        "- We start at the lower right. Needleman-Wunsch assumes a *global* alignment, meaning the whole dang sequence is aligned. Therefore we start at the end and work backward.\n",
        "\n",
        "- Each horizontal step represents insertion of an indel ('-') into the sequence of the rows (the side sequence)\n",
        "\n",
        "- Each vertical step represents insertion of an indel into the top sequence.\n",
        "\n",
        "- The optimal alignment(s) are represented by the cells with the highest scores."
      ]
    },
    {
      "cell_type": "markdown",
      "metadata": {
        "id": "kGqz-dQnEugM"
      },
      "source": [
        "#### Tracing back along the scoring matrix to find an optimal alignment\n",
        "\n",
        "Our traceback step is going to be a little bit tricky because there can be more than one optial path. \n",
        "\n",
        "If we ignore this complication for a moment, our algorithm might look something like this:\n",
        "\n",
        "- start in the bottom right\n",
        "- find whether the cell to the left, above or above and to the left of the current cell has the highest value\n",
        "- move to that cell\n",
        "- adjust the alignment of seq1 and seq2 based on the move.\n",
        "- continue moving until we reach 0,0\n",
        "\n",
        "This would work, except that some cells will be tied in value. This can happen anytime there are two or more equally good alignments of our sequences. Therefore, we have to do something more like this:\n",
        "\n",
        "- create an empty list of branches\n",
        "- start in the bottom right cell\n",
        "- for each branch:\n",
        "    - find whether the cell to the left, above or above and to the left of the current cell has the highest value\n",
        "    - if there's a tie, pick one value to pursue, and add the others as additional branches.\n",
        "    - move to that cell\n",
        "    - adjust the alignment of seq1 and seq2 based on the move.\n",
        "    - continue moving until we reach 0,0"
      ]
    },
    {
      "cell_type": "code",
      "execution_count": 24,
      "metadata": {
        "id": "CkbdgIidEugM",
        "colab": {
          "base_uri": "https://localhost:8080/"
        },
        "outputId": "a4c33dc7-1f2e-4109-99ee-a3ce31dc549b"
      },
      "outputs": [
        {
          "output_type": "stream",
          "name": "stdout",
          "text": [
            "Currently on row: 7\n",
            "Currently on col: 7\n",
            "Arrow: ←\n",
            "Insert indel into left sequence\n",
            "-\n",
            " \n",
            "A\n",
            "Currently on row: 7\n",
            "Currently on col: 6\n",
            "Arrow: ↖\n",
            "match or mismatch\n",
            "T-\n",
            "  \n",
            "CA\n",
            "Currently on row: 6\n",
            "Currently on col: 5\n",
            "Arrow: ↖\n",
            "match or mismatch\n",
            "CT-\n",
            "|  \n",
            "CCA\n",
            "Currently on row: 5\n",
            "Currently on col: 4\n",
            "Arrow: ↖\n",
            "match or mismatch\n",
            "GCT-\n",
            " |  \n",
            "ACCA\n",
            "Currently on row: 4\n",
            "Currently on col: 3\n",
            "Arrow: ↖\n",
            "match or mismatch\n",
            "TGCT-\n",
            "| |  \n",
            "TACCA\n",
            "Currently on row: 3\n",
            "Currently on col: 2\n",
            "Arrow: ↖\n",
            "match or mismatch\n",
            "ATGCT-\n",
            "|| |  \n",
            "ATACCA\n",
            "Currently on row: 2\n",
            "Currently on col: 1\n",
            "Arrow: ↑\n",
            "insert indel into top sequence\n",
            "CATGCT-\n",
            " || |  \n",
            "-ATACCA\n",
            "Currently on row: 1\n",
            "Currently on col: 1\n",
            "Arrow: ↖\n",
            "match or mismatch\n",
            "GCATGCT-\n",
            "| || |  \n",
            "G-ATACCA\n",
            "Currently on row: 0\n",
            "Currently on col: 0\n",
            "Arrow: -\n"
          ]
        },
        {
          "output_type": "execute_result",
          "data": {
            "text/plain": [
              "('GCATGCT-', 'G-ATACCA')"
            ]
          },
          "metadata": {},
          "execution_count": 24
        }
      ],
      "source": [
        "def traceback_alignment(traceback_array,seq1,seq2,up_arrow = \"\\u2191\" ,\\\n",
        "                        left_arrow=\"\\u2190\",up_left_arrow=\"\\u2196\",stop=\"-\"):\n",
        "    \"\"\"Align seq1 and seq2 using the traceback matrix and return as two strings\n",
        "    \n",
        "    traceback_array -- a numpy array with arrow characters indicating the direction from \n",
        "    which the best path to a given alignment position originated\n",
        "    \n",
        "    seq1 - a sequence represented as a string\n",
        "    seq2 - a sequence represented as a string\n",
        "    up_arrow - the unicode used for the up arrows (there are several arrow symbols in Unicode)\n",
        "    left_arrow - the unicode used for the left arrows \n",
        "    up_left_arrow - the unicode used for the diagonal arrows\n",
        "    stop - the symbol used in the upper left to indicate the end of the alignment\n",
        "    \"\"\"\n",
        "\n",
        "    n_rows = len(seq1) + 1 #need an extra row up top\n",
        "    n_columns = len(seq2) + 1 #need an extra row up top\n",
        "    \n",
        "    row = len(seq1)\n",
        "    col = len(seq2)\n",
        "    arrow = traceback_array[row,col]\n",
        "    aligned_seq1 = \"\"\n",
        "    aligned_seq2 = \"\"\n",
        "    alignment_indicator = \"\"\n",
        "    while arrow is not \"-\":\n",
        "            print(\"Currently on row:\",row)\n",
        "            print(\"Currently on col:\",col)\n",
        "            arrow = traceback_array[row,col]\n",
        "            print(\"Arrow:\",arrow)\n",
        "            \n",
        "            if arrow == up_arrow: \n",
        "                print(\"insert indel into top sequence\")\n",
        "                #We want to add the new indel onto the left \n",
        "                #side of the growing aligned sequence\n",
        "                aligned_seq2 = \"-\"+aligned_seq2 \n",
        "                aligned_seq1 = seq1[row-1] + aligned_seq1\n",
        "                alignment_indicator = \" \"+alignment_indicator\n",
        "                row -=1\n",
        "                            \n",
        "            elif arrow == up_left_arrow:\n",
        "                print(\"match or mismatch\")\n",
        "                #Note that we look up the row-1 and col-1 indexes\n",
        "                #because there is an extra \"-\" character at the\n",
        "                #start of each sequence\n",
        "                seq1_character = seq1[row-1]\n",
        "                seq2_character = seq2[col-1]\n",
        "                aligned_seq1 = seq1[row-1] + aligned_seq1\n",
        "                aligned_seq2 = seq2[col-1] + aligned_seq2\n",
        "                if seq1_character == seq2_character:\n",
        "                    alignment_indicator = \"|\"+alignment_indicator\n",
        "                else:\n",
        "                    alignment_indicator = \" \"+alignment_indicator\n",
        "                row -=1\n",
        "                col -=1\n",
        "                \n",
        "            elif arrow == left_arrow:\n",
        "                print(\"Insert indel into left sequence\")\n",
        "                aligned_seq1 = \"-\"+aligned_seq1\n",
        "                aligned_seq2 = seq2[col-1] + aligned_seq2\n",
        "                alignment_indicator = \" \"+alignment_indicator\n",
        "                col -=1\n",
        "                \n",
        "            elif arrow == stop:\n",
        "                break\n",
        "            else:\n",
        "                raise ValueError(f\"Traceback array entry at {row},{col}: {arrow} is not recognized as an up arrow ({up_arrow}),left_arrow ({left_arrow}), up_left_arrow ({up_left_arrow}), or a stop ({stop}).\")\n",
        "            #print(traceback_array,-row,-col,traceback_array[-row,-col])\n",
        "            print(aligned_seq1)\n",
        "            print(alignment_indicator)\n",
        "            print(aligned_seq2)\n",
        "            \n",
        "    return aligned_seq1,aligned_seq2\n",
        "traceback_alignment(traceback_array,seq1,seq2)"
      ]
    },
    {
      "cell_type": "markdown",
      "metadata": {
        "id": "7S2BjYcVEugN"
      },
      "source": [
        "## Adding in a scoring matrix for different substitutions\n",
        "\n",
        "The above code assumes - unrealistically - that all nucleotide substitutions are about equally common, and so should be scored equally. However, in reality, some types of substitutions are much more common than others in many biological systems. For example, transitions within purine (A or G) or pyrimidine (C or T) nucleotides tend to be much more common than transversions that cross these classes (e.g. A --> T or G --> C). We can capture such differences by building a scoring function for mismatches.\n",
        "\n",
        "Here's an example. We'll start by building a scoring matrix where all the scores are equal, except that transitions are penalized less (let's say -1) than transversions (let's say -2)."
      ]
    },
    {
      "cell_type": "code",
      "execution_count": 25,
      "metadata": {
        "id": "ugk16tYlEugN",
        "colab": {
          "base_uri": "https://localhost:8080/",
          "height": 175
        },
        "outputId": "2527a2e0-601d-4d80-a11c-6aa6745dd99f"
      },
      "outputs": [
        {
          "output_type": "display_data",
          "data": {
            "text/plain": [
              "<IPython.core.display.HTML object>"
            ],
            "text/html": [
              "<table border=\"1\" class=\"dataframe\">\n",
              "  <thead>\n",
              "    <tr style=\"text-align: right;\">\n",
              "      <th></th>\n",
              "      <th>A</th>\n",
              "      <th>G</th>\n",
              "      <th>C</th>\n",
              "      <th>T</th>\n",
              "    </tr>\n",
              "  </thead>\n",
              "  <tbody>\n",
              "    <tr>\n",
              "      <th>A</th>\n",
              "      <td>1</td>\n",
              "      <td>-1</td>\n",
              "      <td>-2</td>\n",
              "      <td>-2</td>\n",
              "    </tr>\n",
              "    <tr>\n",
              "      <th>G</th>\n",
              "      <td>-1</td>\n",
              "      <td>1</td>\n",
              "      <td>-2</td>\n",
              "      <td>-2</td>\n",
              "    </tr>\n",
              "    <tr>\n",
              "      <th>C</th>\n",
              "      <td>-2</td>\n",
              "      <td>-2</td>\n",
              "      <td>1</td>\n",
              "      <td>-1</td>\n",
              "    </tr>\n",
              "    <tr>\n",
              "      <th>T</th>\n",
              "      <td>-2</td>\n",
              "      <td>-2</td>\n",
              "      <td>-1</td>\n",
              "      <td>1</td>\n",
              "    </tr>\n",
              "  </tbody>\n",
              "</table>"
            ]
          },
          "metadata": {}
        }
      ],
      "source": [
        "#Build a dict to assign each nucleotide one row or column\n",
        "#index in the table\n",
        "nucleotides = \"AGCT\"\n",
        "\n",
        "#Step through each nucleotide and give it a row and column index\n",
        "#using a dictionary with keys = nucleotides and values = indices\n",
        "nucleotide_indices = {nucleotide:i for i,nucleotide in enumerate(nucleotides)}\n",
        "\n",
        "#Set up scores \n",
        "match_score = 1\n",
        "#We want separate scores for substitutions that are\n",
        "#transitions or transversions\n",
        "transversion_score = -2\n",
        "transition_score = -1\n",
        "\n",
        "# Set up a scoring_matrix for each possible substitution\n",
        "scoring_matrix = full([len(nucleotides),len(nucleotides)],transition_score)\n",
        "\n",
        "#Fill in the scoring matrix based on whether the new vs. old nucleotide are in the \n",
        "#same chemical class (e.g. both purines)\n",
        "chemical_class = {\"A\":\"Purine\",\"T\":\"Pyrimidine\",\"C\":\"Pyrimidine\",\"G\":\"Purine\"}\n",
        "for nt1 in nucleotides:\n",
        "    for nt2 in nucleotides:\n",
        "        #Look up which row/column the \n",
        "        #nucleotides are in\n",
        "        nt1_index = nucleotide_indices[nt1]\n",
        "        nt2_index = nucleotide_indices[nt2]\n",
        "        if nt1 == nt2:\n",
        "            #The nucleotides match\n",
        "            scoring_matrix[nt1_index][nt2_index] = match_score\n",
        "            #We can skip further analysis of this pair...\n",
        "            #We alredy know they match\n",
        "            continue\n",
        "        \n",
        "        nt1_chemical_class = chemical_class[nt1]\n",
        "        nt2_chemical_class = chemical_class[nt2]\n",
        "        \n",
        "        if nt1_chemical_class == nt2_chemical_class:\n",
        "            #The nucleotides are both pyrimidines or\n",
        "            #both purines so this is a transition\n",
        "            scoring_matrix[nt1_index][nt2_index] = transition_score\n",
        "        else:\n",
        "            #They are in different chemical classes,\n",
        "            #so this change is a transversion\n",
        "            scoring_matrix[nt1_index][nt2_index] = transversion_score\n",
        "            \n",
        "\n",
        "#Show the scoring matrix\n",
        "display(pretty_table_from_array(scoring_matrix,\\\n",
        "        row_labels =[n for n in nucleotides],\\\n",
        "        col_labels = [n for n in nucleotides]))    "
      ]
    },
    {
      "cell_type": "markdown",
      "metadata": {
        "id": "55bQFN-7EugN"
      },
      "source": [
        "This scoring matrix took a little work to put together. We could also have drawn it by hand and just loaded the finished product as a numpy array.\n"
      ]
    },
    {
      "cell_type": "markdown",
      "metadata": {
        "id": "ZjnyroOHEugN"
      },
      "source": [
        "#### Integrating our scoring matrix into the code\n",
        "\n",
        "If we are going to look up the scores of matches or mismatches in our table, we'll need a function that can handle looking up a particular match or mismatch in the table. Here's one way we might do that:"
      ]
    },
    {
      "cell_type": "code",
      "execution_count": 26,
      "metadata": {
        "id": "XhoYt91lEugN"
      },
      "outputs": [],
      "source": [
        "def score_match(nt1,nt2,scoring_matrix,\\\n",
        "  scoring_matrix_indices={'A': 0, 'G': 1, 'C': 2, 'T': 3}):\n",
        "    \"\"\"Return the score for a substitution between nt1 and nt2 based on the scoring matrix\n",
        "    nt1 -- a string representing the first nucleotide \n",
        "    nt2 -- a string representing the second nucleotide\n",
        "    scoring_matrix -- an N x N numpy array, where N is\n",
        "      the number of nucleotides (so usually 4x4)\n",
        "    scoring_matrix_indices -- a dict mapping rows and columns\n",
        "      of the scoring array to nucleotides \n",
        "    \n",
        "    \"\"\"\n",
        "    return scoring_matrix[scoring_matrix_indices[nt1],scoring_matrix_indices[nt2]]\n"
      ]
    },
    {
      "cell_type": "markdown",
      "metadata": {
        "id": "Ohy5FWisEugN"
      },
      "source": [
        "We can now use the `score_match` function to look up some values from our scoring matrix. Let's test if an A --> G transition is penalized less severely than an A --> T transversion. "
      ]
    },
    {
      "cell_type": "code",
      "execution_count": 27,
      "metadata": {
        "id": "MUCAdJgXEugO",
        "colab": {
          "base_uri": "https://localhost:8080/"
        },
        "outputId": "dc72a1f9-5e3d-4b15-e472-b981809fa250"
      },
      "outputs": [
        {
          "output_type": "stream",
          "name": "stdout",
          "text": [
            "A --> G score:-1\n",
            "A --> T score:-2\n"
          ]
        }
      ],
      "source": [
        "AG_score = score_match(\"A\",\"G\",scoring_matrix,nucleotide_indices)\n",
        "AT_score = score_match(\"A\",\"T\",scoring_matrix,nucleotide_indices)\n",
        "print(f\"A --> G score:{AG_score}\")\n",
        "print(f\"A --> T score:{AT_score}\")"
      ]
    },
    {
      "cell_type": "markdown",
      "metadata": {
        "id": "uaLUPZetEugO"
      },
      "source": [
        "Success! Our scoring matrix and `score_match` function now let us set different bonuses/penalties for different matches or mismatches between nucleotides. Now we just need to modify our code to ensure that when the Needleman-Wunsch algorithm evaluates a match or mismatch, it uses our function to find the right number."
      ]
    },
    {
      "cell_type": "code",
      "execution_count": 28,
      "metadata": {
        "id": "_BRBvdzwEugO",
        "colab": {
          "base_uri": "https://localhost:8080/",
          "height": 583
        },
        "outputId": "cb8913a9-6215-4f35-d5fc-a88ec4ff5005"
      },
      "outputs": [
        {
          "output_type": "display_data",
          "data": {
            "text/plain": [
              "<IPython.core.display.HTML object>"
            ],
            "text/html": [
              "<table border=\"1\" class=\"dataframe\">\n",
              "  <thead>\n",
              "    <tr style=\"text-align: right;\">\n",
              "      <th></th>\n",
              "      <th>-</th>\n",
              "      <th>G</th>\n",
              "      <th>A</th>\n",
              "      <th>T</th>\n",
              "      <th>A</th>\n",
              "      <th>C</th>\n",
              "      <th>C</th>\n",
              "      <th>A</th>\n",
              "    </tr>\n",
              "  </thead>\n",
              "  <tbody>\n",
              "    <tr>\n",
              "      <th>-</th>\n",
              "      <td>0</td>\n",
              "      <td>-1</td>\n",
              "      <td>-2</td>\n",
              "      <td>-3</td>\n",
              "      <td>-4</td>\n",
              "      <td>-5</td>\n",
              "      <td>-6</td>\n",
              "      <td>-7</td>\n",
              "    </tr>\n",
              "    <tr>\n",
              "      <th>G</th>\n",
              "      <td>-1</td>\n",
              "      <td>1</td>\n",
              "      <td>0</td>\n",
              "      <td>-1</td>\n",
              "      <td>-2</td>\n",
              "      <td>-3</td>\n",
              "      <td>-4</td>\n",
              "      <td>-5</td>\n",
              "    </tr>\n",
              "    <tr>\n",
              "      <th>C</th>\n",
              "      <td>-2</td>\n",
              "      <td>0</td>\n",
              "      <td>-1</td>\n",
              "      <td>-1</td>\n",
              "      <td>-2</td>\n",
              "      <td>-1</td>\n",
              "      <td>-2</td>\n",
              "      <td>-3</td>\n",
              "    </tr>\n",
              "    <tr>\n",
              "      <th>A</th>\n",
              "      <td>-3</td>\n",
              "      <td>-1</td>\n",
              "      <td>1</td>\n",
              "      <td>0</td>\n",
              "      <td>0</td>\n",
              "      <td>-1</td>\n",
              "      <td>-2</td>\n",
              "      <td>-1</td>\n",
              "    </tr>\n",
              "    <tr>\n",
              "      <th>T</th>\n",
              "      <td>-4</td>\n",
              "      <td>-2</td>\n",
              "      <td>0</td>\n",
              "      <td>2</td>\n",
              "      <td>1</td>\n",
              "      <td>0</td>\n",
              "      <td>-1</td>\n",
              "      <td>-2</td>\n",
              "    </tr>\n",
              "    <tr>\n",
              "      <th>G</th>\n",
              "      <td>-5</td>\n",
              "      <td>-3</td>\n",
              "      <td>-1</td>\n",
              "      <td>1</td>\n",
              "      <td>1</td>\n",
              "      <td>0</td>\n",
              "      <td>-1</td>\n",
              "      <td>-2</td>\n",
              "    </tr>\n",
              "    <tr>\n",
              "      <th>C</th>\n",
              "      <td>-6</td>\n",
              "      <td>-4</td>\n",
              "      <td>-2</td>\n",
              "      <td>0</td>\n",
              "      <td>0</td>\n",
              "      <td>2</td>\n",
              "      <td>1</td>\n",
              "      <td>0</td>\n",
              "    </tr>\n",
              "    <tr>\n",
              "      <th>T</th>\n",
              "      <td>-7</td>\n",
              "      <td>-5</td>\n",
              "      <td>-3</td>\n",
              "      <td>-1</td>\n",
              "      <td>-1</td>\n",
              "      <td>1</td>\n",
              "      <td>1</td>\n",
              "      <td>0</td>\n",
              "    </tr>\n",
              "  </tbody>\n",
              "</table>"
            ]
          },
          "metadata": {}
        },
        {
          "output_type": "display_data",
          "data": {
            "text/plain": [
              "<IPython.core.display.HTML object>"
            ],
            "text/html": [
              "<table border=\"1\" class=\"dataframe\">\n",
              "  <thead>\n",
              "    <tr style=\"text-align: right;\">\n",
              "      <th></th>\n",
              "      <th>-</th>\n",
              "      <th>G</th>\n",
              "      <th>A</th>\n",
              "      <th>T</th>\n",
              "      <th>A</th>\n",
              "      <th>C</th>\n",
              "      <th>C</th>\n",
              "      <th>A</th>\n",
              "    </tr>\n",
              "  </thead>\n",
              "  <tbody>\n",
              "    <tr>\n",
              "      <th>-</th>\n",
              "      <td>-</td>\n",
              "      <td>-</td>\n",
              "      <td>-</td>\n",
              "      <td>-</td>\n",
              "      <td>-</td>\n",
              "      <td>-</td>\n",
              "      <td>-</td>\n",
              "      <td>-</td>\n",
              "    </tr>\n",
              "    <tr>\n",
              "      <th>G</th>\n",
              "      <td>-</td>\n",
              "      <td>↖</td>\n",
              "      <td>←</td>\n",
              "      <td>←</td>\n",
              "      <td>←</td>\n",
              "      <td>←</td>\n",
              "      <td>←</td>\n",
              "      <td>←</td>\n",
              "    </tr>\n",
              "    <tr>\n",
              "      <th>C</th>\n",
              "      <td>←</td>\n",
              "      <td>↑</td>\n",
              "      <td>←</td>\n",
              "      <td>↖</td>\n",
              "      <td>←</td>\n",
              "      <td>↖</td>\n",
              "      <td>←</td>\n",
              "      <td>←</td>\n",
              "    </tr>\n",
              "    <tr>\n",
              "      <th>A</th>\n",
              "      <td>←</td>\n",
              "      <td>↑</td>\n",
              "      <td>↖</td>\n",
              "      <td>←</td>\n",
              "      <td>↖</td>\n",
              "      <td>←</td>\n",
              "      <td>←</td>\n",
              "      <td>↖</td>\n",
              "    </tr>\n",
              "    <tr>\n",
              "      <th>T</th>\n",
              "      <td>↖</td>\n",
              "      <td>↑</td>\n",
              "      <td>↑</td>\n",
              "      <td>↖</td>\n",
              "      <td>←</td>\n",
              "      <td>←</td>\n",
              "      <td>←</td>\n",
              "      <td>←</td>\n",
              "    </tr>\n",
              "    <tr>\n",
              "      <th>G</th>\n",
              "      <td>←</td>\n",
              "      <td>↑</td>\n",
              "      <td>↑</td>\n",
              "      <td>↑</td>\n",
              "      <td>↖</td>\n",
              "      <td>←</td>\n",
              "      <td>←</td>\n",
              "      <td>←</td>\n",
              "    </tr>\n",
              "    <tr>\n",
              "      <th>C</th>\n",
              "      <td>←</td>\n",
              "      <td>↑</td>\n",
              "      <td>↑</td>\n",
              "      <td>↑</td>\n",
              "      <td>↑</td>\n",
              "      <td>↖</td>\n",
              "      <td>←</td>\n",
              "      <td>←</td>\n",
              "    </tr>\n",
              "    <tr>\n",
              "      <th>T</th>\n",
              "      <td>←</td>\n",
              "      <td>↑</td>\n",
              "      <td>↑</td>\n",
              "      <td>↑</td>\n",
              "      <td>↑</td>\n",
              "      <td>↑</td>\n",
              "      <td>↖</td>\n",
              "      <td>←</td>\n",
              "    </tr>\n",
              "  </tbody>\n",
              "</table>"
            ]
          },
          "metadata": {}
        }
      ],
      "source": [
        "\n",
        "def needleman_wunsch(seq1,seq2, scoring_matrix,\\\n",
        "  scoring_matrix_indices={\"A\":0,\"G\":0,\"G\":0,\"C\":0},\\\n",
        "  scoring_function=score_match, gap_penalty=-1):\n",
        "    \"\"\"Perform Needleman Wunsch global alignment on two sequences\n",
        "    seq1 -- a sequence as a string\n",
        "    seq2 -- a sequence as a string\n",
        "    gap_function -- a function that takes no parameters and returns the score for a gap\n",
        "    scoring_function -- a function that takes two nucleotides and returns a score\n",
        "    \n",
        "    \"\"\"\n",
        "    #build an array of zeroes \n",
        "    n_rows = len(seq1) + 1 #need an extra row up top\n",
        "    n_columns = len(seq2) + 1 #need an extra column on the left\n",
        "    scoring_array = full([n_rows,n_columns],0)\n",
        "    traceback_array = full([n_rows,n_columns],\"-\")\n",
        "\n",
        "\n",
        "    #Define Unicode arrows we'll use in the traceback array\n",
        "    up_arrow = \"\\u2191\"\n",
        "    right_arrow = \"\\u2192\"\n",
        "    down_arrow = \"\\u2193\"\n",
        "    left_arrow = \"\\u2190\"\n",
        "    down_right_arrow = \"\\u2198\"\n",
        "    up_left_arrow = \"\\u2196\"\n",
        "\n",
        "    arrow = \"-\"\n",
        "    \n",
        "    #iterate over columns first because we want to do \n",
        "    # all the columns for row 1 before row 2\n",
        "    for row in range(n_rows):\n",
        "        for col in range(n_columns):  \n",
        "            if row == 0 and col == 0:\n",
        "                #We're in the upper right corner\n",
        "                score = 0\n",
        "            elif row == 0:\n",
        "                #We're on the first row\n",
        "                #but NOT in the corner\n",
        "\n",
        "                #Look up the score of the previous cell (to the left) in the score array\\\n",
        "                previous_score = scoring_array[row,col - 1]\n",
        "                # add the gap penalty to it's score\n",
        "                score = previous_score + gap_penalty\n",
        "            elif col == 0:\n",
        "                #We're on the first column but not in the first row\n",
        "                previous_score = scoring_array[row -1,col]\n",
        "                score = previous_score + gap_penalty\n",
        "            else: \n",
        "                #We're in a 'middle' cell of the alignment\n",
        "\n",
        "                #Calculate the scores for coming from above,\n",
        "                #from the left, (representing an insertion into seq1)\n",
        "                cell_to_the_left = scoring_array[row,col-1]\n",
        "                from_left_score = cell_to_the_left + gap_penalty\n",
        "\n",
        "                #or from above (representing an insertion into seq2)\n",
        "                above_cell = scoring_array[row-1,col]\n",
        "                from_above_score = above_cell + gap_penalty\n",
        "\n",
        "                #diagonal cell, representing a substitution (e.g. A --> T)\n",
        "               \n",
        "                diagonal_left_cell = scoring_array[row-1,col-1]\n",
        "\n",
        "                #Since the table has an extra row and column (the blank ones), \n",
        "                #when indexing back to the sequence we want row -1 and col - 1.\n",
        "                #since row 1 represents character 0 of the sequence.\n",
        "                curr_nt_seq1 = seq1[row-1]\n",
        "                curr_nt_seq2 = seq2[col-1]\n",
        "                \n",
        "                #the scoring matrix will tell us the score for matches,\n",
        "                #transitions and transversions\n",
        "                diagonal_left_cell_score = diagonal_left_cell + \\\n",
        "                  score_match(curr_nt_seq1,curr_nt_seq2,scoring_matrix)\n",
        "                score = max([from_left_score,from_above_score,diagonal_left_cell_score]) \n",
        "                #take the max\n",
        "                #make note of which cell was the max in the traceback array \n",
        "                #using Unicode arrows\n",
        "                if score == from_left_score:\n",
        "                    arrow = left_arrow\n",
        "                elif score == from_above_score:\n",
        "                    arrow = up_arrow\n",
        "                elif score == diagonal_left_cell_score:\n",
        "                    arrow = up_left_arrow\n",
        "            \n",
        "            traceback_array[row,col]=arrow    \n",
        "            scoring_array[row,col] = score\n",
        "    return scoring_array,traceback_array\n",
        "        \n",
        "        \n",
        "scoring_array,traceback_array = needleman_wunsch(seq1,seq2,scoring_matrix)\n",
        "display(pretty_table_from_array(scoring_array,row_labels,column_labels))   \n",
        "display(pretty_table_from_array(traceback_array,row_labels,column_labels)) \n"
      ]
    },
    {
      "cell_type": "markdown",
      "metadata": {
        "id": "DkRkNp3JEugO"
      },
      "source": [
        "Now that we have a new traceback matrix, we can reuse our code for tracing back through that matrix to generate a new alignment of our sequences using our updated scoring scheme that takes into account transitions and transversions:"
      ]
    },
    {
      "cell_type": "code",
      "execution_count": 29,
      "metadata": {
        "id": "UYczXT3aEugO",
        "colab": {
          "base_uri": "https://localhost:8080/"
        },
        "outputId": "c2d7c056-5bc8-48e9-d6e8-d62334a7d90d"
      },
      "outputs": [
        {
          "output_type": "stream",
          "name": "stdout",
          "text": [
            "Currently on row: 7\n",
            "Currently on col: 7\n",
            "Arrow: ←\n",
            "Insert indel into left sequence\n",
            "-\n",
            " \n",
            "A\n",
            "Currently on row: 7\n",
            "Currently on col: 6\n",
            "Arrow: ↖\n",
            "match or mismatch\n",
            "T-\n",
            "  \n",
            "CA\n",
            "Currently on row: 6\n",
            "Currently on col: 5\n",
            "Arrow: ↖\n",
            "match or mismatch\n",
            "CT-\n",
            "|  \n",
            "CCA\n",
            "Currently on row: 5\n",
            "Currently on col: 4\n",
            "Arrow: ↖\n",
            "match or mismatch\n",
            "GCT-\n",
            " |  \n",
            "ACCA\n",
            "Currently on row: 4\n",
            "Currently on col: 3\n",
            "Arrow: ↖\n",
            "match or mismatch\n",
            "TGCT-\n",
            "| |  \n",
            "TACCA\n",
            "Currently on row: 3\n",
            "Currently on col: 2\n",
            "Arrow: ↖\n",
            "match or mismatch\n",
            "ATGCT-\n",
            "|| |  \n",
            "ATACCA\n",
            "Currently on row: 2\n",
            "Currently on col: 1\n",
            "Arrow: ↑\n",
            "insert indel into top sequence\n",
            "CATGCT-\n",
            " || |  \n",
            "-ATACCA\n",
            "Currently on row: 1\n",
            "Currently on col: 1\n",
            "Arrow: ↖\n",
            "match or mismatch\n",
            "GCATGCT-\n",
            "| || |  \n",
            "G-ATACCA\n",
            "Currently on row: 0\n",
            "Currently on col: 0\n",
            "Arrow: -\n"
          ]
        },
        {
          "output_type": "execute_result",
          "data": {
            "text/plain": [
              "('GCATGCT-', 'G-ATACCA')"
            ]
          },
          "metadata": {},
          "execution_count": 29
        }
      ],
      "source": [
        "traceback_alignment(traceback_array,seq1,seq2)"
      ]
    },
    {
      "cell_type": "markdown",
      "metadata": {
        "id": "hEf_qXwSEugO"
      },
      "source": [
        "\n",
        "## Task 5: (10 points)\n",
        "\n",
        "Explain the complete analysis for the technique used above (5%) and than Try changing the scoring matrix in our implementation of Needleman-Wunsch. For example, if you set an extreme penalty for G --> A and A --> G transtions to -999, does that change the alignment? What about if you set the gap penalty to 0 (5%)?\n",
        "≈\n",
        "\n"
      ]
    },
    {
      "cell_type": "code",
      "source": [
        "#The technique used above is Needleman-Wunsch. It is used to find the correct allignments(There can be more than one possible pair). We start from the beginning and traverse through the matrix to find the max value. After Reaching the end we traceback to find the allignment.\n",
        "#In the later part Scoring Matrix is used to calculate the weigths. It changed the allignment as compared to the previous one. \n",
        "\n",
        "#Build a dict to assign each nucleotide one row or column\n",
        "#index in the table\n",
        "nucleotides = \"AGCT\"\n",
        "\n",
        "#Step through each nucleotide and give it a row and column index\n",
        "#using a dictionary with keys = nucleotides and values = indices\n",
        "nucleotide_indices = {nucleotide:i for i,nucleotide in enumerate(nucleotides)}\n",
        "\n",
        "#Set up scores \n",
        "match_score = 1\n",
        "#We want separate scores for substitutions that are\n",
        "#transitions or transversions\n",
        "transversion_score = -2\n",
        "transition_score = -1\n",
        "\n",
        "# Set up a scoring_matrix for each possible substitution\n",
        "scoring_matrix = full([len(nucleotides),len(nucleotides)],transition_score)\n",
        "\n",
        "#Fill in the scoring matrix based on whether the new vs. old nucleotide are in the \n",
        "#same chemical class (e.g. both purines)\n",
        "chemical_class = {\"A\":\"Purine\",\"T\":\"Pyrimidine\",\"C\":\"Pyrimidine\",\"G\":\"Purine\"}\n",
        "for nt1 in nucleotides:\n",
        "    for nt2 in nucleotides:\n",
        "        #Look up which row/column the \n",
        "        #nucleotides are in\n",
        "        nt1_index = nucleotide_indices[nt1]\n",
        "        nt2_index = nucleotide_indices[nt2]\n",
        "        if nt1 == nt2:\n",
        "            #The nucleotides match\n",
        "            scoring_matrix[nt1_index][nt2_index] = match_score\n",
        "            #We can skip further analysis of this pair...\n",
        "            #We alredy know they match\n",
        "            continue\n",
        "        \n",
        "        nt1_chemical_class = chemical_class[nt1]\n",
        "        nt2_chemical_class = chemical_class[nt2]\n",
        "        \n",
        "        if nt1_chemical_class == nt2_chemical_class:\n",
        "            #The nucleotides are both pyrimidines or\n",
        "            #both purines so this is a transition\n",
        "            scoring_matrix[nt1_index][nt2_index] = transition_score\n",
        "        else:\n",
        "            #They are in different chemical classes,\n",
        "            #so this change is a transversion\n",
        "            scoring_matrix[nt1_index][nt2_index] = transversion_score\n",
        "            \n",
        "\n",
        "#Show the scoring matrix\n",
        "display(pretty_table_from_array(scoring_matrix,\\\n",
        "        row_labels =[n for n in nucleotides],\\\n",
        "        col_labels = [n for n in nucleotides]))  \n",
        "\n",
        "def score_match(nt1,nt2,scoring_matrix,\\\n",
        "  scoring_matrix_indices={'A': 0, 'G': 1, 'C': 2, 'T': 3}):\n",
        "    \"\"\"Return the score for a substitution between nt1 and nt2 based on the scoring matrix\n",
        "    nt1 -- a string representing the first nucleotide \n",
        "    nt2 -- a string representing the second nucleotide\n",
        "    scoring_matrix -- an N x N numpy array, where N is\n",
        "      the number of nucleotides (so usually 4x4)\n",
        "    scoring_matrix_indices -- a dict mapping rows and columns\n",
        "      of the scoring array to nucleotides \n",
        "    \n",
        "    \"\"\"\n",
        "    return scoring_matrix[scoring_matrix_indices[nt1],scoring_matrix_indices[nt2]]\n",
        "\n",
        "AG_score = score_match(\"A\",\"G\",scoring_matrix,nucleotide_indices)\n",
        "AT_score = score_match(\"A\",\"T\",scoring_matrix,nucleotide_indices)\n",
        "print(f\"A --> G score:{AG_score}\")\n",
        "print(f\"A --> T score:{AT_score}\")\n",
        "\n",
        "\n",
        "def needleman_wunsch(seq1,seq2, scoring_matrix,\\\n",
        "  scoring_matrix_indices={\"A\":0,\"G\":0,\"G\":0,\"C\":0},\\\n",
        "  scoring_function=score_match, gap_penalty=-1):\n",
        "    \"\"\"Perform Needleman Wunsch global alignment on two sequences\n",
        "    seq1 -- a sequence as a string\n",
        "    seq2 -- a sequence as a string\n",
        "    gap_function -- a function that takes no parameters and returns the score for a gap\n",
        "    scoring_function -- a function that takes two nucleotides and returns a score\n",
        "    \n",
        "    \"\"\"\n",
        "    #build an array of zeroes \n",
        "    n_rows = len(seq1) + 1 #need an extra row up top\n",
        "    n_columns = len(seq2) + 1 #need an extra column on the left\n",
        "    scoring_array = full([n_rows,n_columns],0)\n",
        "    traceback_array = full([n_rows,n_columns],\"-\")\n",
        "\n",
        "\n",
        "    #Define Unicode arrows we'll use in the traceback array\n",
        "    up_arrow = \"\\u2191\"\n",
        "    right_arrow = \"\\u2192\"\n",
        "    down_arrow = \"\\u2193\"\n",
        "    left_arrow = \"\\u2190\"\n",
        "    down_right_arrow = \"\\u2198\"\n",
        "    up_left_arrow = \"\\u2196\"\n",
        "\n",
        "    arrow = \"-\"\n",
        "    \n",
        "    #iterate over columns first because we want to do \n",
        "    # all the columns for row 1 before row 2\n",
        "    for row in range(n_rows):\n",
        "        for col in range(n_columns):  \n",
        "            if row == 0 and col == 0:\n",
        "                #We're in the upper right corner\n",
        "                score = 0\n",
        "            elif row == 0:\n",
        "                #We're on the first row\n",
        "                #but NOT in the corner\n",
        "\n",
        "                #Look up the score of the previous cell (to the left) in the score array\\\n",
        "                previous_score = scoring_array[row,col - 1]\n",
        "                # add the gap penalty to it's score\n",
        "                score = previous_score + gap_penalty\n",
        "            elif col == 0:\n",
        "                #We're on the first column but not in the first row\n",
        "                previous_score = scoring_array[row -1,col]\n",
        "                score = previous_score + gap_penalty\n",
        "            else: \n",
        "                #We're in a 'middle' cell of the alignment\n",
        "\n",
        "                #Calculate the scores for coming from above,\n",
        "                #from the left, (representing an insertion into seq1)\n",
        "                cell_to_the_left = scoring_array[row,col-1]\n",
        "                from_left_score = cell_to_the_left + gap_penalty\n",
        "\n",
        "                #or from above (representing an insertion into seq2)\n",
        "                above_cell = scoring_array[row-1,col]\n",
        "                from_above_score = above_cell + gap_penalty\n",
        "\n",
        "                #diagonal cell, representing a substitution (e.g. A --> T)\n",
        "               \n",
        "                diagonal_left_cell = scoring_array[row-1,col-1]\n",
        "\n",
        "                #Since the table has an extra row and column (the blank ones), \n",
        "                #when indexing back to the sequence we want row -1 and col - 1.\n",
        "                #since row 1 represents character 0 of the sequence.\n",
        "                curr_nt_seq1 = seq1[row-1]\n",
        "                curr_nt_seq2 = seq2[col-1]\n",
        "                \n",
        "                #the scoring matrix will tell us the score for matches,\n",
        "                #transitions and transversions\n",
        "                diagonal_left_cell_score = diagonal_left_cell + \\\n",
        "                  score_match(curr_nt_seq1,curr_nt_seq2,scoring_matrix)\n",
        "                score = max([from_left_score,from_above_score,diagonal_left_cell_score]) \n",
        "                #take the max\n",
        "                #make note of which cell was the max in the traceback array \n",
        "                #using Unicode arrows\n",
        "                if score == from_left_score:\n",
        "                    arrow = left_arrow\n",
        "                elif score == from_above_score:\n",
        "                    arrow = up_arrow\n",
        "                elif score == diagonal_left_cell_score:\n",
        "                    arrow = up_left_arrow\n",
        "            \n",
        "            traceback_array[row,col]=arrow    \n",
        "            scoring_array[row,col] = score\n",
        "    return scoring_array,traceback_array\n",
        "        \n",
        "        \n",
        "scoring_array,traceback_array = needleman_wunsch(seq1,seq2,scoring_matrix)\n",
        "display(pretty_table_from_array(scoring_array,row_labels,column_labels))   \n",
        "display(pretty_table_from_array(traceback_array,row_labels,column_labels)) \n",
        "\n",
        "traceback_alignment(traceback_array,seq1,seq2)"
      ],
      "metadata": {
        "id": "MaDtku7r_myI",
        "colab": {
          "base_uri": "https://localhost:8080/",
          "height": 1000
        },
        "outputId": "9342d9c7-38aa-4596-ddac-84788f0f341a"
      },
      "execution_count": 30,
      "outputs": [
        {
          "output_type": "display_data",
          "data": {
            "text/plain": [
              "<IPython.core.display.HTML object>"
            ],
            "text/html": [
              "<table border=\"1\" class=\"dataframe\">\n",
              "  <thead>\n",
              "    <tr style=\"text-align: right;\">\n",
              "      <th></th>\n",
              "      <th>A</th>\n",
              "      <th>G</th>\n",
              "      <th>C</th>\n",
              "      <th>T</th>\n",
              "    </tr>\n",
              "  </thead>\n",
              "  <tbody>\n",
              "    <tr>\n",
              "      <th>A</th>\n",
              "      <td>1</td>\n",
              "      <td>-1</td>\n",
              "      <td>-2</td>\n",
              "      <td>-2</td>\n",
              "    </tr>\n",
              "    <tr>\n",
              "      <th>G</th>\n",
              "      <td>-1</td>\n",
              "      <td>1</td>\n",
              "      <td>-2</td>\n",
              "      <td>-2</td>\n",
              "    </tr>\n",
              "    <tr>\n",
              "      <th>C</th>\n",
              "      <td>-2</td>\n",
              "      <td>-2</td>\n",
              "      <td>1</td>\n",
              "      <td>-1</td>\n",
              "    </tr>\n",
              "    <tr>\n",
              "      <th>T</th>\n",
              "      <td>-2</td>\n",
              "      <td>-2</td>\n",
              "      <td>-1</td>\n",
              "      <td>1</td>\n",
              "    </tr>\n",
              "  </tbody>\n",
              "</table>"
            ]
          },
          "metadata": {}
        },
        {
          "output_type": "stream",
          "name": "stdout",
          "text": [
            "A --> G score:-1\n",
            "A --> T score:-2\n"
          ]
        },
        {
          "output_type": "display_data",
          "data": {
            "text/plain": [
              "<IPython.core.display.HTML object>"
            ],
            "text/html": [
              "<table border=\"1\" class=\"dataframe\">\n",
              "  <thead>\n",
              "    <tr style=\"text-align: right;\">\n",
              "      <th></th>\n",
              "      <th>-</th>\n",
              "      <th>G</th>\n",
              "      <th>A</th>\n",
              "      <th>T</th>\n",
              "      <th>A</th>\n",
              "      <th>C</th>\n",
              "      <th>C</th>\n",
              "      <th>A</th>\n",
              "    </tr>\n",
              "  </thead>\n",
              "  <tbody>\n",
              "    <tr>\n",
              "      <th>-</th>\n",
              "      <td>0</td>\n",
              "      <td>-1</td>\n",
              "      <td>-2</td>\n",
              "      <td>-3</td>\n",
              "      <td>-4</td>\n",
              "      <td>-5</td>\n",
              "      <td>-6</td>\n",
              "      <td>-7</td>\n",
              "    </tr>\n",
              "    <tr>\n",
              "      <th>G</th>\n",
              "      <td>-1</td>\n",
              "      <td>1</td>\n",
              "      <td>0</td>\n",
              "      <td>-1</td>\n",
              "      <td>-2</td>\n",
              "      <td>-3</td>\n",
              "      <td>-4</td>\n",
              "      <td>-5</td>\n",
              "    </tr>\n",
              "    <tr>\n",
              "      <th>C</th>\n",
              "      <td>-2</td>\n",
              "      <td>0</td>\n",
              "      <td>-1</td>\n",
              "      <td>-1</td>\n",
              "      <td>-2</td>\n",
              "      <td>-1</td>\n",
              "      <td>-2</td>\n",
              "      <td>-3</td>\n",
              "    </tr>\n",
              "    <tr>\n",
              "      <th>A</th>\n",
              "      <td>-3</td>\n",
              "      <td>-1</td>\n",
              "      <td>1</td>\n",
              "      <td>0</td>\n",
              "      <td>0</td>\n",
              "      <td>-1</td>\n",
              "      <td>-2</td>\n",
              "      <td>-1</td>\n",
              "    </tr>\n",
              "    <tr>\n",
              "      <th>T</th>\n",
              "      <td>-4</td>\n",
              "      <td>-2</td>\n",
              "      <td>0</td>\n",
              "      <td>2</td>\n",
              "      <td>1</td>\n",
              "      <td>0</td>\n",
              "      <td>-1</td>\n",
              "      <td>-2</td>\n",
              "    </tr>\n",
              "    <tr>\n",
              "      <th>G</th>\n",
              "      <td>-5</td>\n",
              "      <td>-3</td>\n",
              "      <td>-1</td>\n",
              "      <td>1</td>\n",
              "      <td>1</td>\n",
              "      <td>0</td>\n",
              "      <td>-1</td>\n",
              "      <td>-2</td>\n",
              "    </tr>\n",
              "    <tr>\n",
              "      <th>C</th>\n",
              "      <td>-6</td>\n",
              "      <td>-4</td>\n",
              "      <td>-2</td>\n",
              "      <td>0</td>\n",
              "      <td>0</td>\n",
              "      <td>2</td>\n",
              "      <td>1</td>\n",
              "      <td>0</td>\n",
              "    </tr>\n",
              "    <tr>\n",
              "      <th>T</th>\n",
              "      <td>-7</td>\n",
              "      <td>-5</td>\n",
              "      <td>-3</td>\n",
              "      <td>-1</td>\n",
              "      <td>-1</td>\n",
              "      <td>1</td>\n",
              "      <td>1</td>\n",
              "      <td>0</td>\n",
              "    </tr>\n",
              "  </tbody>\n",
              "</table>"
            ]
          },
          "metadata": {}
        },
        {
          "output_type": "display_data",
          "data": {
            "text/plain": [
              "<IPython.core.display.HTML object>"
            ],
            "text/html": [
              "<table border=\"1\" class=\"dataframe\">\n",
              "  <thead>\n",
              "    <tr style=\"text-align: right;\">\n",
              "      <th></th>\n",
              "      <th>-</th>\n",
              "      <th>G</th>\n",
              "      <th>A</th>\n",
              "      <th>T</th>\n",
              "      <th>A</th>\n",
              "      <th>C</th>\n",
              "      <th>C</th>\n",
              "      <th>A</th>\n",
              "    </tr>\n",
              "  </thead>\n",
              "  <tbody>\n",
              "    <tr>\n",
              "      <th>-</th>\n",
              "      <td>-</td>\n",
              "      <td>-</td>\n",
              "      <td>-</td>\n",
              "      <td>-</td>\n",
              "      <td>-</td>\n",
              "      <td>-</td>\n",
              "      <td>-</td>\n",
              "      <td>-</td>\n",
              "    </tr>\n",
              "    <tr>\n",
              "      <th>G</th>\n",
              "      <td>-</td>\n",
              "      <td>↖</td>\n",
              "      <td>←</td>\n",
              "      <td>←</td>\n",
              "      <td>←</td>\n",
              "      <td>←</td>\n",
              "      <td>←</td>\n",
              "      <td>←</td>\n",
              "    </tr>\n",
              "    <tr>\n",
              "      <th>C</th>\n",
              "      <td>←</td>\n",
              "      <td>↑</td>\n",
              "      <td>←</td>\n",
              "      <td>↖</td>\n",
              "      <td>←</td>\n",
              "      <td>↖</td>\n",
              "      <td>←</td>\n",
              "      <td>←</td>\n",
              "    </tr>\n",
              "    <tr>\n",
              "      <th>A</th>\n",
              "      <td>←</td>\n",
              "      <td>↑</td>\n",
              "      <td>↖</td>\n",
              "      <td>←</td>\n",
              "      <td>↖</td>\n",
              "      <td>←</td>\n",
              "      <td>←</td>\n",
              "      <td>↖</td>\n",
              "    </tr>\n",
              "    <tr>\n",
              "      <th>T</th>\n",
              "      <td>↖</td>\n",
              "      <td>↑</td>\n",
              "      <td>↑</td>\n",
              "      <td>↖</td>\n",
              "      <td>←</td>\n",
              "      <td>←</td>\n",
              "      <td>←</td>\n",
              "      <td>←</td>\n",
              "    </tr>\n",
              "    <tr>\n",
              "      <th>G</th>\n",
              "      <td>←</td>\n",
              "      <td>↑</td>\n",
              "      <td>↑</td>\n",
              "      <td>↑</td>\n",
              "      <td>↖</td>\n",
              "      <td>←</td>\n",
              "      <td>←</td>\n",
              "      <td>←</td>\n",
              "    </tr>\n",
              "    <tr>\n",
              "      <th>C</th>\n",
              "      <td>←</td>\n",
              "      <td>↑</td>\n",
              "      <td>↑</td>\n",
              "      <td>↑</td>\n",
              "      <td>↑</td>\n",
              "      <td>↖</td>\n",
              "      <td>←</td>\n",
              "      <td>←</td>\n",
              "    </tr>\n",
              "    <tr>\n",
              "      <th>T</th>\n",
              "      <td>←</td>\n",
              "      <td>↑</td>\n",
              "      <td>↑</td>\n",
              "      <td>↑</td>\n",
              "      <td>↑</td>\n",
              "      <td>↑</td>\n",
              "      <td>↖</td>\n",
              "      <td>←</td>\n",
              "    </tr>\n",
              "  </tbody>\n",
              "</table>"
            ]
          },
          "metadata": {}
        },
        {
          "output_type": "stream",
          "name": "stdout",
          "text": [
            "Currently on row: 7\n",
            "Currently on col: 7\n",
            "Arrow: ←\n",
            "Insert indel into left sequence\n",
            "-\n",
            " \n",
            "A\n",
            "Currently on row: 7\n",
            "Currently on col: 6\n",
            "Arrow: ↖\n",
            "match or mismatch\n",
            "T-\n",
            "  \n",
            "CA\n",
            "Currently on row: 6\n",
            "Currently on col: 5\n",
            "Arrow: ↖\n",
            "match or mismatch\n",
            "CT-\n",
            "|  \n",
            "CCA\n",
            "Currently on row: 5\n",
            "Currently on col: 4\n",
            "Arrow: ↖\n",
            "match or mismatch\n",
            "GCT-\n",
            " |  \n",
            "ACCA\n",
            "Currently on row: 4\n",
            "Currently on col: 3\n",
            "Arrow: ↖\n",
            "match or mismatch\n",
            "TGCT-\n",
            "| |  \n",
            "TACCA\n",
            "Currently on row: 3\n",
            "Currently on col: 2\n",
            "Arrow: ↖\n",
            "match or mismatch\n",
            "ATGCT-\n",
            "|| |  \n",
            "ATACCA\n",
            "Currently on row: 2\n",
            "Currently on col: 1\n",
            "Arrow: ↑\n",
            "insert indel into top sequence\n",
            "CATGCT-\n",
            " || |  \n",
            "-ATACCA\n",
            "Currently on row: 1\n",
            "Currently on col: 1\n",
            "Arrow: ↖\n",
            "match or mismatch\n",
            "GCATGCT-\n",
            "| || |  \n",
            "G-ATACCA\n",
            "Currently on row: 0\n",
            "Currently on col: 0\n",
            "Arrow: -\n"
          ]
        },
        {
          "output_type": "execute_result",
          "data": {
            "text/plain": [
              "('GCATGCT-', 'G-ATACCA')"
            ]
          },
          "metadata": {},
          "execution_count": 30
        }
      ]
    },
    {
      "cell_type": "markdown",
      "source": [
        "The technique used above is Needleman-Wunsch. It is used to find the correct allignments(There can be more than one possible pair). We start from the beginning and traverse through the matrix to find the max value. After Reaching the end we traceback to find the allignment.\n",
        "In the later part Scoring Matrix is used to calculate the weigths. It changed the allignment as compared to the previous one. \n",
        "\n",
        "Yes the Allignment changes for both the extreme case(-99) and case where the penalty is 0"
      ],
      "metadata": {
        "id": "I-p68EfzGlVC"
      }
    },
    {
      "cell_type": "markdown",
      "source": [
        "# Task 6a: (5 points)\n",
        "What are the changes in the implementation of the algorithms if it is to be implemented on RNA sequences."
      ],
      "metadata": {
        "id": "eeFm-NsOPfHy"
      }
    },
    {
      "cell_type": "markdown",
      "source": [
        "**Answer 6a:**There is no special changes to be made for RNA. We just need to edit the values for it(Add if new elements are there and change the value for scoring matrix(penalty))\n",
        "***\n",
        "\n",
        "\n"
      ],
      "metadata": {
        "id": "zzj_DG1GtxZK"
      }
    },
    {
      "cell_type": "markdown",
      "source": [
        "# Task 6b: (10 points)\n",
        "\n",
        "Extend the code to perform alignment of RNA sequences."
      ],
      "metadata": {
        "id": "zVXuP_SIt63r"
      }
    },
    {
      "cell_type": "code",
      "source": [
        "#Build a dict to assign each nucleotide one row or column\n",
        "#index in the table\n",
        "nucleotides = \"AGCT\"\n",
        "\n",
        "#Step through each nucleotide and give it a row and column index\n",
        "#using a dictionary with keys = nucleotides and values = indices\n",
        "nucleotide_indices = {nucleotide:i for i,nucleotide in enumerate(nucleotides)}\n",
        "\n",
        "#Set up scores \n",
        "match_score = 1\n",
        "#We want separate scores for substitutions that are\n",
        "#transitions or transversions\n",
        "transversion_score = -2\n",
        "transition_score = -1\n",
        "\n",
        "# Set up a scoring_matrix for each possible substitution\n",
        "scoring_matrix = full([len(nucleotides),len(nucleotides)],transition_score)\n",
        "\n",
        "#Fill in the scoring matrix based on whether the new vs. old nucleotide are in the \n",
        "#same chemical class (e.g. both purines)\n",
        "chemical_class = {\"A\":\"Purine\",\"T\":\"Pyrimidine\",\"C\":\"Pyrimidine\",\"G\":\"Purine\"}\n",
        "for nt1 in nucleotides:\n",
        "    for nt2 in nucleotides:\n",
        "        #Look up which row/column the \n",
        "        #nucleotides are in\n",
        "        nt1_index = nucleotide_indices[nt1]\n",
        "        nt2_index = nucleotide_indices[nt2]\n",
        "        if nt1 == nt2:\n",
        "            #The nucleotides match\n",
        "            scoring_matrix[nt1_index][nt2_index] = match_score\n",
        "            #We can skip further analysis of this pair...\n",
        "            #We alredy know they match\n",
        "            continue\n",
        "        \n",
        "        nt1_chemical_class = chemical_class[nt1]\n",
        "        nt2_chemical_class = chemical_class[nt2]\n",
        "        \n",
        "        if nt1_chemical_class == nt2_chemical_class:\n",
        "            #The nucleotides are both pyrimidines or\n",
        "            #both purines so this is a transition\n",
        "            scoring_matrix[nt1_index][nt2_index] = transition_score\n",
        "        else:\n",
        "            #They are in different chemical classes,\n",
        "            #so this change is a transversion\n",
        "            scoring_matrix[nt1_index][nt2_index] = transversion_score\n",
        "            \n",
        "\n",
        "#Show the scoring matrix\n",
        "display(pretty_table_from_array(scoring_matrix,\\\n",
        "        row_labels =[n for n in nucleotides],\\\n",
        "        col_labels = [n for n in nucleotides]))  \n",
        "\n",
        "def score_match(nt1,nt2,scoring_matrix,\\\n",
        "  scoring_matrix_indices={'A': 0, 'G': 1, 'C': 2, 'T': 3}):\n",
        "    \"\"\"Return the score for a substitution between nt1 and nt2 based on the scoring matrix\n",
        "    nt1 -- a string representing the first nucleotide \n",
        "    nt2 -- a string representing the second nucleotide\n",
        "    scoring_matrix -- an N x N numpy array, where N is\n",
        "      the number of nucleotides (so usually 4x4)\n",
        "    scoring_matrix_indices -- a dict mapping rows and columns\n",
        "      of the scoring array to nucleotides \n",
        "    \n",
        "    \"\"\"\n",
        "    return scoring_matrix[scoring_matrix_indices[nt1],scoring_matrix_indices[nt2]]\n",
        "\n",
        "AG_score = score_match(\"A\",\"G\",scoring_matrix,nucleotide_indices)\n",
        "AT_score = score_match(\"A\",\"T\",scoring_matrix,nucleotide_indices)\n",
        "print(f\"A --> G score:{AG_score}\")\n",
        "print(f\"A --> T score:{AT_score}\")\n",
        "\n",
        "\n",
        "def needleman_wunsch(seq1,seq2, scoring_matrix,\\\n",
        "  scoring_matrix_indices={\"A\":0,\"G\":0,\"G\":0,\"C\":0},\\\n",
        "  scoring_function=score_match, gap_penalty=-1):\n",
        "    \"\"\"Perform Needleman Wunsch global alignment on two sequences\n",
        "    seq1 -- a sequence as a string\n",
        "    seq2 -- a sequence as a string\n",
        "    gap_function -- a function that takes no parameters and returns the score for a gap\n",
        "    scoring_function -- a function that takes two nucleotides and returns a score\n",
        "    \n",
        "    \"\"\"\n",
        "    #build an array of zeroes \n",
        "    n_rows = len(seq1) + 1 #need an extra row up top\n",
        "    n_columns = len(seq2) + 1 #need an extra column on the left\n",
        "    scoring_array = full([n_rows,n_columns],0)\n",
        "    traceback_array = full([n_rows,n_columns],\"-\")\n",
        "\n",
        "\n",
        "    #Define Unicode arrows we'll use in the traceback array\n",
        "    up_arrow = \"\\u2191\"\n",
        "    right_arrow = \"\\u2192\"\n",
        "    down_arrow = \"\\u2193\"\n",
        "    left_arrow = \"\\u2190\"\n",
        "    down_right_arrow = \"\\u2198\"\n",
        "    up_left_arrow = \"\\u2196\"\n",
        "\n",
        "    arrow = \"-\"\n",
        "    \n",
        "    #iterate over columns first because we want to do \n",
        "    # all the columns for row 1 before row 2\n",
        "    for row in range(n_rows):\n",
        "        for col in range(n_columns):  \n",
        "            if row == 0 and col == 0:\n",
        "                #We're in the upper right corner\n",
        "                score = 0\n",
        "            elif row == 0:\n",
        "                #We're on the first row\n",
        "                #but NOT in the corner\n",
        "\n",
        "                #Look up the score of the previous cell (to the left) in the score array\\\n",
        "                previous_score = scoring_array[row,col - 1]\n",
        "                # add the gap penalty to it's score\n",
        "                score = previous_score + gap_penalty\n",
        "            elif col == 0:\n",
        "                #We're on the first column but not in the first row\n",
        "                previous_score = scoring_array[row -1,col]\n",
        "                score = previous_score + gap_penalty\n",
        "            else: \n",
        "                #We're in a 'middle' cell of the alignment\n",
        "\n",
        "                #Calculate the scores for coming from above,\n",
        "                #from the left, (representing an insertion into seq1)\n",
        "                cell_to_the_left = scoring_array[row,col-1]\n",
        "                from_left_score = cell_to_the_left + gap_penalty\n",
        "\n",
        "                #or from above (representing an insertion into seq2)\n",
        "                above_cell = scoring_array[row-1,col]\n",
        "                from_above_score = above_cell + gap_penalty\n",
        "\n",
        "                #diagonal cell, representing a substitution (e.g. A --> T)\n",
        "               \n",
        "                diagonal_left_cell = scoring_array[row-1,col-1]\n",
        "\n",
        "                #Since the table has an extra row and column (the blank ones), \n",
        "                #when indexing back to the sequence we want row -1 and col - 1.\n",
        "                #since row 1 represents character 0 of the sequence.\n",
        "                curr_nt_seq1 = seq1[row-1]\n",
        "                curr_nt_seq2 = seq2[col-1]\n",
        "                \n",
        "                #the scoring matrix will tell us the score for matches,\n",
        "                #transitions and transversions\n",
        "                diagonal_left_cell_score = diagonal_left_cell + \\\n",
        "                  score_match(curr_nt_seq1,curr_nt_seq2,scoring_matrix)\n",
        "                score = max([from_left_score,from_above_score,diagonal_left_cell_score]) \n",
        "                #take the max\n",
        "                #make note of which cell was the max in the traceback array \n",
        "                #using Unicode arrows\n",
        "                if score == from_left_score:\n",
        "                    arrow = left_arrow\n",
        "                elif score == from_above_score:\n",
        "                    arrow = up_arrow\n",
        "                elif score == diagonal_left_cell_score:\n",
        "                    arrow = up_left_arrow\n",
        "            \n",
        "            traceback_array[row,col]=arrow    \n",
        "            scoring_array[row,col] = score\n",
        "    return scoring_array,traceback_array\n",
        "        \n",
        "        \n",
        "scoring_array,traceback_array = needleman_wunsch(seq1,seq2,scoring_matrix)\n",
        "display(pretty_table_from_array(scoring_array,row_labels,column_labels))   \n",
        "display(pretty_table_from_array(traceback_array,row_labels,column_labels)) \n",
        "\n",
        "traceback_alignment(traceback_array,seq1,seq2)"
      ],
      "metadata": {
        "id": "k5bkBuO-uEn1",
        "colab": {
          "base_uri": "https://localhost:8080/",
          "height": 1000
        },
        "outputId": "fdb949fd-8471-4665-aeee-5d5e834981b0"
      },
      "execution_count": 31,
      "outputs": [
        {
          "output_type": "display_data",
          "data": {
            "text/plain": [
              "<IPython.core.display.HTML object>"
            ],
            "text/html": [
              "<table border=\"1\" class=\"dataframe\">\n",
              "  <thead>\n",
              "    <tr style=\"text-align: right;\">\n",
              "      <th></th>\n",
              "      <th>A</th>\n",
              "      <th>G</th>\n",
              "      <th>C</th>\n",
              "      <th>T</th>\n",
              "    </tr>\n",
              "  </thead>\n",
              "  <tbody>\n",
              "    <tr>\n",
              "      <th>A</th>\n",
              "      <td>1</td>\n",
              "      <td>-1</td>\n",
              "      <td>-2</td>\n",
              "      <td>-2</td>\n",
              "    </tr>\n",
              "    <tr>\n",
              "      <th>G</th>\n",
              "      <td>-1</td>\n",
              "      <td>1</td>\n",
              "      <td>-2</td>\n",
              "      <td>-2</td>\n",
              "    </tr>\n",
              "    <tr>\n",
              "      <th>C</th>\n",
              "      <td>-2</td>\n",
              "      <td>-2</td>\n",
              "      <td>1</td>\n",
              "      <td>-1</td>\n",
              "    </tr>\n",
              "    <tr>\n",
              "      <th>T</th>\n",
              "      <td>-2</td>\n",
              "      <td>-2</td>\n",
              "      <td>-1</td>\n",
              "      <td>1</td>\n",
              "    </tr>\n",
              "  </tbody>\n",
              "</table>"
            ]
          },
          "metadata": {}
        },
        {
          "output_type": "stream",
          "name": "stdout",
          "text": [
            "A --> G score:-1\n",
            "A --> T score:-2\n"
          ]
        },
        {
          "output_type": "display_data",
          "data": {
            "text/plain": [
              "<IPython.core.display.HTML object>"
            ],
            "text/html": [
              "<table border=\"1\" class=\"dataframe\">\n",
              "  <thead>\n",
              "    <tr style=\"text-align: right;\">\n",
              "      <th></th>\n",
              "      <th>-</th>\n",
              "      <th>G</th>\n",
              "      <th>A</th>\n",
              "      <th>T</th>\n",
              "      <th>A</th>\n",
              "      <th>C</th>\n",
              "      <th>C</th>\n",
              "      <th>A</th>\n",
              "    </tr>\n",
              "  </thead>\n",
              "  <tbody>\n",
              "    <tr>\n",
              "      <th>-</th>\n",
              "      <td>0</td>\n",
              "      <td>-1</td>\n",
              "      <td>-2</td>\n",
              "      <td>-3</td>\n",
              "      <td>-4</td>\n",
              "      <td>-5</td>\n",
              "      <td>-6</td>\n",
              "      <td>-7</td>\n",
              "    </tr>\n",
              "    <tr>\n",
              "      <th>G</th>\n",
              "      <td>-1</td>\n",
              "      <td>1</td>\n",
              "      <td>0</td>\n",
              "      <td>-1</td>\n",
              "      <td>-2</td>\n",
              "      <td>-3</td>\n",
              "      <td>-4</td>\n",
              "      <td>-5</td>\n",
              "    </tr>\n",
              "    <tr>\n",
              "      <th>C</th>\n",
              "      <td>-2</td>\n",
              "      <td>0</td>\n",
              "      <td>-1</td>\n",
              "      <td>-1</td>\n",
              "      <td>-2</td>\n",
              "      <td>-1</td>\n",
              "      <td>-2</td>\n",
              "      <td>-3</td>\n",
              "    </tr>\n",
              "    <tr>\n",
              "      <th>A</th>\n",
              "      <td>-3</td>\n",
              "      <td>-1</td>\n",
              "      <td>1</td>\n",
              "      <td>0</td>\n",
              "      <td>0</td>\n",
              "      <td>-1</td>\n",
              "      <td>-2</td>\n",
              "      <td>-1</td>\n",
              "    </tr>\n",
              "    <tr>\n",
              "      <th>T</th>\n",
              "      <td>-4</td>\n",
              "      <td>-2</td>\n",
              "      <td>0</td>\n",
              "      <td>2</td>\n",
              "      <td>1</td>\n",
              "      <td>0</td>\n",
              "      <td>-1</td>\n",
              "      <td>-2</td>\n",
              "    </tr>\n",
              "    <tr>\n",
              "      <th>G</th>\n",
              "      <td>-5</td>\n",
              "      <td>-3</td>\n",
              "      <td>-1</td>\n",
              "      <td>1</td>\n",
              "      <td>1</td>\n",
              "      <td>0</td>\n",
              "      <td>-1</td>\n",
              "      <td>-2</td>\n",
              "    </tr>\n",
              "    <tr>\n",
              "      <th>C</th>\n",
              "      <td>-6</td>\n",
              "      <td>-4</td>\n",
              "      <td>-2</td>\n",
              "      <td>0</td>\n",
              "      <td>0</td>\n",
              "      <td>2</td>\n",
              "      <td>1</td>\n",
              "      <td>0</td>\n",
              "    </tr>\n",
              "    <tr>\n",
              "      <th>T</th>\n",
              "      <td>-7</td>\n",
              "      <td>-5</td>\n",
              "      <td>-3</td>\n",
              "      <td>-1</td>\n",
              "      <td>-1</td>\n",
              "      <td>1</td>\n",
              "      <td>1</td>\n",
              "      <td>0</td>\n",
              "    </tr>\n",
              "  </tbody>\n",
              "</table>"
            ]
          },
          "metadata": {}
        },
        {
          "output_type": "display_data",
          "data": {
            "text/plain": [
              "<IPython.core.display.HTML object>"
            ],
            "text/html": [
              "<table border=\"1\" class=\"dataframe\">\n",
              "  <thead>\n",
              "    <tr style=\"text-align: right;\">\n",
              "      <th></th>\n",
              "      <th>-</th>\n",
              "      <th>G</th>\n",
              "      <th>A</th>\n",
              "      <th>T</th>\n",
              "      <th>A</th>\n",
              "      <th>C</th>\n",
              "      <th>C</th>\n",
              "      <th>A</th>\n",
              "    </tr>\n",
              "  </thead>\n",
              "  <tbody>\n",
              "    <tr>\n",
              "      <th>-</th>\n",
              "      <td>-</td>\n",
              "      <td>-</td>\n",
              "      <td>-</td>\n",
              "      <td>-</td>\n",
              "      <td>-</td>\n",
              "      <td>-</td>\n",
              "      <td>-</td>\n",
              "      <td>-</td>\n",
              "    </tr>\n",
              "    <tr>\n",
              "      <th>G</th>\n",
              "      <td>-</td>\n",
              "      <td>↖</td>\n",
              "      <td>←</td>\n",
              "      <td>←</td>\n",
              "      <td>←</td>\n",
              "      <td>←</td>\n",
              "      <td>←</td>\n",
              "      <td>←</td>\n",
              "    </tr>\n",
              "    <tr>\n",
              "      <th>C</th>\n",
              "      <td>←</td>\n",
              "      <td>↑</td>\n",
              "      <td>←</td>\n",
              "      <td>↖</td>\n",
              "      <td>←</td>\n",
              "      <td>↖</td>\n",
              "      <td>←</td>\n",
              "      <td>←</td>\n",
              "    </tr>\n",
              "    <tr>\n",
              "      <th>A</th>\n",
              "      <td>←</td>\n",
              "      <td>↑</td>\n",
              "      <td>↖</td>\n",
              "      <td>←</td>\n",
              "      <td>↖</td>\n",
              "      <td>←</td>\n",
              "      <td>←</td>\n",
              "      <td>↖</td>\n",
              "    </tr>\n",
              "    <tr>\n",
              "      <th>T</th>\n",
              "      <td>↖</td>\n",
              "      <td>↑</td>\n",
              "      <td>↑</td>\n",
              "      <td>↖</td>\n",
              "      <td>←</td>\n",
              "      <td>←</td>\n",
              "      <td>←</td>\n",
              "      <td>←</td>\n",
              "    </tr>\n",
              "    <tr>\n",
              "      <th>G</th>\n",
              "      <td>←</td>\n",
              "      <td>↑</td>\n",
              "      <td>↑</td>\n",
              "      <td>↑</td>\n",
              "      <td>↖</td>\n",
              "      <td>←</td>\n",
              "      <td>←</td>\n",
              "      <td>←</td>\n",
              "    </tr>\n",
              "    <tr>\n",
              "      <th>C</th>\n",
              "      <td>←</td>\n",
              "      <td>↑</td>\n",
              "      <td>↑</td>\n",
              "      <td>↑</td>\n",
              "      <td>↑</td>\n",
              "      <td>↖</td>\n",
              "      <td>←</td>\n",
              "      <td>←</td>\n",
              "    </tr>\n",
              "    <tr>\n",
              "      <th>T</th>\n",
              "      <td>←</td>\n",
              "      <td>↑</td>\n",
              "      <td>↑</td>\n",
              "      <td>↑</td>\n",
              "      <td>↑</td>\n",
              "      <td>↑</td>\n",
              "      <td>↖</td>\n",
              "      <td>←</td>\n",
              "    </tr>\n",
              "  </tbody>\n",
              "</table>"
            ]
          },
          "metadata": {}
        },
        {
          "output_type": "stream",
          "name": "stdout",
          "text": [
            "Currently on row: 7\n",
            "Currently on col: 7\n",
            "Arrow: ←\n",
            "Insert indel into left sequence\n",
            "-\n",
            " \n",
            "A\n",
            "Currently on row: 7\n",
            "Currently on col: 6\n",
            "Arrow: ↖\n",
            "match or mismatch\n",
            "T-\n",
            "  \n",
            "CA\n",
            "Currently on row: 6\n",
            "Currently on col: 5\n",
            "Arrow: ↖\n",
            "match or mismatch\n",
            "CT-\n",
            "|  \n",
            "CCA\n",
            "Currently on row: 5\n",
            "Currently on col: 4\n",
            "Arrow: ↖\n",
            "match or mismatch\n",
            "GCT-\n",
            " |  \n",
            "ACCA\n",
            "Currently on row: 4\n",
            "Currently on col: 3\n",
            "Arrow: ↖\n",
            "match or mismatch\n",
            "TGCT-\n",
            "| |  \n",
            "TACCA\n",
            "Currently on row: 3\n",
            "Currently on col: 2\n",
            "Arrow: ↖\n",
            "match or mismatch\n",
            "ATGCT-\n",
            "|| |  \n",
            "ATACCA\n",
            "Currently on row: 2\n",
            "Currently on col: 1\n",
            "Arrow: ↑\n",
            "insert indel into top sequence\n",
            "CATGCT-\n",
            " || |  \n",
            "-ATACCA\n",
            "Currently on row: 1\n",
            "Currently on col: 1\n",
            "Arrow: ↖\n",
            "match or mismatch\n",
            "GCATGCT-\n",
            "| || |  \n",
            "G-ATACCA\n",
            "Currently on row: 0\n",
            "Currently on col: 0\n",
            "Arrow: -\n"
          ]
        },
        {
          "output_type": "execute_result",
          "data": {
            "text/plain": [
              "('GCATGCT-', 'G-ATACCA')"
            ]
          },
          "metadata": {},
          "execution_count": 31
        }
      ]
    },
    {
      "cell_type": "markdown",
      "source": [
        "# Task 7: (15 points)\n",
        "## The smith Waterman Algorithm\n",
        "Code and explain how the algorithm works. Provide explanation as it is done for the one above. Try tracing the algorithm."
      ],
      "metadata": {
        "id": "tfhQgcECPGEP"
      }
    },
    {
      "cell_type": "code",
      "execution_count": 32,
      "metadata": {
        "id": "ERzN2LhCEugP",
        "colab": {
          "base_uri": "https://localhost:8080/",
          "height": 583
        },
        "outputId": "f062c49d-0a78-48e2-eb44-7b90d11517d5"
      },
      "outputs": [
        {
          "output_type": "display_data",
          "data": {
            "text/plain": [
              "<IPython.core.display.HTML object>"
            ],
            "text/html": [
              "<table border=\"1\" class=\"dataframe\">\n",
              "  <thead>\n",
              "    <tr style=\"text-align: right;\">\n",
              "      <th></th>\n",
              "      <th>-</th>\n",
              "      <th>G</th>\n",
              "      <th>A</th>\n",
              "      <th>T</th>\n",
              "      <th>A</th>\n",
              "      <th>C</th>\n",
              "      <th>C</th>\n",
              "      <th>A</th>\n",
              "    </tr>\n",
              "  </thead>\n",
              "  <tbody>\n",
              "    <tr>\n",
              "      <th>-</th>\n",
              "      <td>0</td>\n",
              "      <td>0</td>\n",
              "      <td>0</td>\n",
              "      <td>0</td>\n",
              "      <td>0</td>\n",
              "      <td>0</td>\n",
              "      <td>0</td>\n",
              "      <td>0</td>\n",
              "    </tr>\n",
              "    <tr>\n",
              "      <th>G</th>\n",
              "      <td>0</td>\n",
              "      <td>1</td>\n",
              "      <td>1</td>\n",
              "      <td>1</td>\n",
              "      <td>1</td>\n",
              "      <td>1</td>\n",
              "      <td>1</td>\n",
              "      <td>1</td>\n",
              "    </tr>\n",
              "    <tr>\n",
              "      <th>C</th>\n",
              "      <td>0</td>\n",
              "      <td>1</td>\n",
              "      <td>1</td>\n",
              "      <td>1</td>\n",
              "      <td>1</td>\n",
              "      <td>2</td>\n",
              "      <td>2</td>\n",
              "      <td>2</td>\n",
              "    </tr>\n",
              "    <tr>\n",
              "      <th>A</th>\n",
              "      <td>0</td>\n",
              "      <td>1</td>\n",
              "      <td>2</td>\n",
              "      <td>2</td>\n",
              "      <td>2</td>\n",
              "      <td>2</td>\n",
              "      <td>2</td>\n",
              "      <td>3</td>\n",
              "    </tr>\n",
              "    <tr>\n",
              "      <th>T</th>\n",
              "      <td>0</td>\n",
              "      <td>1</td>\n",
              "      <td>2</td>\n",
              "      <td>3</td>\n",
              "      <td>3</td>\n",
              "      <td>3</td>\n",
              "      <td>3</td>\n",
              "      <td>3</td>\n",
              "    </tr>\n",
              "    <tr>\n",
              "      <th>G</th>\n",
              "      <td>0</td>\n",
              "      <td>1</td>\n",
              "      <td>2</td>\n",
              "      <td>3</td>\n",
              "      <td>3</td>\n",
              "      <td>3</td>\n",
              "      <td>3</td>\n",
              "      <td>3</td>\n",
              "    </tr>\n",
              "    <tr>\n",
              "      <th>C</th>\n",
              "      <td>0</td>\n",
              "      <td>1</td>\n",
              "      <td>2</td>\n",
              "      <td>3</td>\n",
              "      <td>3</td>\n",
              "      <td>4</td>\n",
              "      <td>4</td>\n",
              "      <td>4</td>\n",
              "    </tr>\n",
              "    <tr>\n",
              "      <th>T</th>\n",
              "      <td>0</td>\n",
              "      <td>1</td>\n",
              "      <td>2</td>\n",
              "      <td>3</td>\n",
              "      <td>3</td>\n",
              "      <td>4</td>\n",
              "      <td>4</td>\n",
              "      <td>4</td>\n",
              "    </tr>\n",
              "  </tbody>\n",
              "</table>"
            ]
          },
          "metadata": {}
        },
        {
          "output_type": "display_data",
          "data": {
            "text/plain": [
              "<IPython.core.display.HTML object>"
            ],
            "text/html": [
              "<table border=\"1\" class=\"dataframe\">\n",
              "  <thead>\n",
              "    <tr style=\"text-align: right;\">\n",
              "      <th></th>\n",
              "      <th>-</th>\n",
              "      <th>G</th>\n",
              "      <th>A</th>\n",
              "      <th>T</th>\n",
              "      <th>A</th>\n",
              "      <th>C</th>\n",
              "      <th>C</th>\n",
              "      <th>A</th>\n",
              "    </tr>\n",
              "  </thead>\n",
              "  <tbody>\n",
              "    <tr>\n",
              "      <th>-</th>\n",
              "      <td>-</td>\n",
              "      <td>←</td>\n",
              "      <td>←</td>\n",
              "      <td>←</td>\n",
              "      <td>←</td>\n",
              "      <td>←</td>\n",
              "      <td>←</td>\n",
              "      <td>←</td>\n",
              "    </tr>\n",
              "    <tr>\n",
              "      <th>G</th>\n",
              "      <td>↑</td>\n",
              "      <td>↖</td>\n",
              "      <td>←</td>\n",
              "      <td>←</td>\n",
              "      <td>←</td>\n",
              "      <td>←</td>\n",
              "      <td>←</td>\n",
              "      <td>←</td>\n",
              "    </tr>\n",
              "    <tr>\n",
              "      <th>C</th>\n",
              "      <td>↑</td>\n",
              "      <td>↑</td>\n",
              "      <td>←</td>\n",
              "      <td>←</td>\n",
              "      <td>←</td>\n",
              "      <td>↖</td>\n",
              "      <td>←</td>\n",
              "      <td>←</td>\n",
              "    </tr>\n",
              "    <tr>\n",
              "      <th>A</th>\n",
              "      <td>↑</td>\n",
              "      <td>↑</td>\n",
              "      <td>↖</td>\n",
              "      <td>←</td>\n",
              "      <td>←</td>\n",
              "      <td>←</td>\n",
              "      <td>←</td>\n",
              "      <td>↖</td>\n",
              "    </tr>\n",
              "    <tr>\n",
              "      <th>T</th>\n",
              "      <td>↑</td>\n",
              "      <td>↑</td>\n",
              "      <td>↑</td>\n",
              "      <td>↖</td>\n",
              "      <td>←</td>\n",
              "      <td>←</td>\n",
              "      <td>←</td>\n",
              "      <td>←</td>\n",
              "    </tr>\n",
              "    <tr>\n",
              "      <th>G</th>\n",
              "      <td>↑</td>\n",
              "      <td>↑</td>\n",
              "      <td>↑</td>\n",
              "      <td>↑</td>\n",
              "      <td>←</td>\n",
              "      <td>←</td>\n",
              "      <td>←</td>\n",
              "      <td>←</td>\n",
              "    </tr>\n",
              "    <tr>\n",
              "      <th>C</th>\n",
              "      <td>↑</td>\n",
              "      <td>↑</td>\n",
              "      <td>↑</td>\n",
              "      <td>↑</td>\n",
              "      <td>←</td>\n",
              "      <td>↖</td>\n",
              "      <td>←</td>\n",
              "      <td>←</td>\n",
              "    </tr>\n",
              "    <tr>\n",
              "      <th>T</th>\n",
              "      <td>↑</td>\n",
              "      <td>↑</td>\n",
              "      <td>↑</td>\n",
              "      <td>↑</td>\n",
              "      <td>←</td>\n",
              "      <td>↑</td>\n",
              "      <td>←</td>\n",
              "      <td>←</td>\n",
              "    </tr>\n",
              "  </tbody>\n",
              "</table>"
            ]
          },
          "metadata": {}
        }
      ],
      "source": [
        "#build an array of zeroes\n",
        "n_rows = len(seq1) + 1 #need an extra row up top\n",
        "n_columns = len(seq2) + 1 #need an extra column on the left\n",
        "row_labels = [label for label in \"-\"+seq1]\n",
        "column_labels = [label for label in \"-\"+seq2]\n",
        "\n",
        "\n",
        "scoring_array = full([n_rows,n_columns],0)\n",
        "traceback_array = full([n_rows,n_columns],\"-\")\n",
        "\n",
        "\n",
        "#Define Unicode arrows we'll use in the traceback array\n",
        "up_arrow = \"\\u2191\"\n",
        "right_arrow = \"\\u2192\"\n",
        "down_arrow = \"\\u2193\"\n",
        "left_arrow = \"\\u2190\"\n",
        "down_right_arrow = \"\\u2198\"\n",
        "up_left_arrow = \"\\u2196\"\n",
        "\n",
        "arrow = \"-\"\n",
        "gap_penalty = 0\n",
        "match_bonus = 1\n",
        "mismatch_penalty = -1\n",
        "#iterate over columns first because we want to do \n",
        "# all the columns for row 1 before row 2\n",
        "for row in range(n_rows):\n",
        "    for col in range(n_columns):        \n",
        "        if row == 0 and col == 0:\n",
        "            #We're in the upper right corner\n",
        "            score = 0\n",
        "            arrow = \"-\"\n",
        "        elif row == 0:\n",
        "            #We're on the first row\n",
        "            #but NOT in the corner\n",
        "            \n",
        "            #Look up the score of the previous cell (to the left) in the score array\\\n",
        "            previous_score = scoring_array[row,col - 1]\n",
        "            # add the gap penalty to it's score\n",
        "            score = previous_score + gap_penalty\n",
        "            arrow = left_arrow\n",
        "        elif col == 0:\n",
        "            #We're on the first column but not in the first row\n",
        "            previous_score = scoring_array[row -1,col]\n",
        "            score = previous_score + gap_penalty\n",
        "            arrow = up_arrow\n",
        "        else: \n",
        "            #We're in a 'middle' cell of the alignment\n",
        "            \n",
        "            #Calculate the scores for coming from above,\n",
        "            #from the left, (representing an insertion into seq1)\n",
        "            cell_to_the_left = scoring_array[row,col-1]\n",
        "            from_left_score = cell_to_the_left + gap_penalty\n",
        "             \n",
        "            #or from above (representing an insertion into seq2)\n",
        "            above_cell = scoring_array[row-1,col]\n",
        "            from_above_score = above_cell + gap_penalty\n",
        "            \n",
        "            #diagonal cell, representing a substitution (e.g. A --> T)\n",
        "            diagonal_left_cell = scoring_array[row-1,col-1]\n",
        "            \n",
        "            #NOTE: since the table has an extra row and column (the blank ones), \n",
        "            #when indexing back to the sequence we want row -1 and col - 1.\n",
        "            #since row 1 represents character 0 of the sequence.\n",
        "            if seq1[row-1] == seq2[col-1]:\n",
        "                diagonal_left_cell_score = diagonal_left_cell + match_bonus\n",
        "            else:\n",
        "                diagonal_left_cell_score = diagonal_left_cell + mismatch_penalty\n",
        "            \n",
        "            score = max([from_left_score,from_above_score,diagonal_left_cell_score]) \n",
        "            #take the max\n",
        "            \n",
        "            #make note of which cell was the max in the traceback array \n",
        "            #using Unicode arrows\n",
        "            if score == from_left_score:\n",
        "                arrow = left_arrow\n",
        "            elif score == from_above_score:\n",
        "                arrow = up_arrow\n",
        "            elif score == diagonal_left_cell_score:\n",
        "                arrow = up_left_arrow\n",
        "                \n",
        "        traceback_array[row,col]=arrow    \n",
        "        scoring_array[row,col] = score\n",
        "        \n",
        "display(pretty_table_from_array(scoring_array,row_labels,column_labels))  \n",
        "display(pretty_table_from_array(traceback_array,row_labels,column_labels))"
      ]
    },
    {
      "cell_type": "markdown",
      "source": [],
      "metadata": {
        "id": "9s7U8lDQKnvc"
      }
    },
    {
      "cell_type": "markdown",
      "source": [
        "Only Subsequence Match instead of entire Sequence as in Global Allignment(Needleman)"
      ],
      "metadata": {
        "id": "O0OLGdzeKnyt"
      }
    },
    {
      "cell_type": "markdown",
      "source": [
        "# Task 8: (15 points)\n",
        "\n",
        "#  Write out the ways in which Needleman algorithm is better than Smith algorithm and vice versa. Bring out the differences of the two algorithms."
      ],
      "metadata": {
        "id": "ZkX8rW8e4mJ2"
      }
    },
    {
      "cell_type": "markdown",
      "source": [
        "Smith is better when we have don't care about the gaps. Needleman is better when we care about the gaps. Only Subsequence Match in Smith Algorithm instead of entire Sequence as in Global Allignment(Needleman)"
      ],
      "metadata": {
        "id": "gCUTYmXULsQA"
      }
    }
  ]
}