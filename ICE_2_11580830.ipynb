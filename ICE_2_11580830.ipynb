{
  "nbformat": 4,
  "nbformat_minor": 0,
  "metadata": {
    "colab": {
      "provenance": [],
      "collapsed_sections": []
    },
    "kernelspec": {
      "name": "python3",
      "display_name": "Python 3"
    },
    "language_info": {
      "name": "python"
    }
  },
  "cells": [
    {
      "cell_type": "markdown",
      "metadata": {
        "id": "h2VS_WlNsjy8"
      },
      "source": [
        "# **ICE-2: Regular Expressions**\n",
        "\n",
        "**Instructions**:\n",
        "1. Wherever you are asked to code, insert a text block below your code block and explain what you have coded as per your own understanding.\n",
        "2. If the code is provided by us, execute it, and add below a text block and provide your explanation in your own words.\n",
        "3. Submit both the .ipynb and pdf files to canvas.\n",
        "4. **The similarity score should be less than 15%.**"
      ]
    },
    {
      "cell_type": "markdown",
      "metadata": {
        "id": "nlsTiXHghLtz"
      },
      "source": [
        "Python includes a builtin module called `re` which provides regular expression matching operations (Click [here](https://docs.python.org/3/library/re.html) for the official module documentation). Once the module is imported into your code, you can use all of the available capabilities for performing pattern-based matching or searching using regular expressions."
      ]
    },
    {
      "cell_type": "code",
      "metadata": {
        "id": "sPmWaxpPsdad"
      },
      "source": [
        "import re\n",
        "\n",
        "def apply_regex(data, pattern):\n",
        "  for text in data:\n",
        "    if re.fullmatch(pattern, text):\n",
        "      print(f\"Test string {text} accepted.\")\n",
        "    else:\n",
        "      print(f\"Test string {text} failed!\")"
      ],
      "execution_count": 103,
      "outputs": []
    },
    {
      "cell_type": "markdown",
      "source": [
        "We have imported the re module.Then we have created a user defined function called apply_regex, which will compare the string to our regular expression and return if the string is accepted or failed."
      ],
      "metadata": {
        "id": "4TepAJtw6ZSD"
      }
    },
    {
      "cell_type": "markdown",
      "metadata": {
        "id": "WMOFir3uh-vB"
      },
      "source": [
        "Let's write a simple regular expression for matching binary strings."
      ]
    },
    {
      "cell_type": "code",
      "metadata": {
        "id": "mBajNIsYWxXA",
        "colab": {
          "base_uri": "https://localhost:8080/"
        },
        "outputId": "3fe17fb6-12c6-4d49-ffc5-c25ae88ba9fb"
      },
      "source": [
        "# find binary strings\n",
        "test_strings = [\"0\", \"1\", \"dog\", \"hello, world\", \"123\", \"00\", \"10101010111\"]\n",
        "binary_pattern = r'[0-1]+'\n",
        "apply_regex(test_strings, binary_pattern)"
      ],
      "execution_count": 104,
      "outputs": [
        {
          "output_type": "stream",
          "name": "stdout",
          "text": [
            "Test string 0 accepted.\n",
            "Test string 1 accepted.\n",
            "Test string dog failed!\n",
            "Test string hello, world failed!\n",
            "Test string 123 failed!\n",
            "Test string 00 accepted.\n",
            "Test string 10101010111 accepted.\n"
          ]
        }
      ]
    },
    {
      "cell_type": "markdown",
      "source": [
        "0 and 1 are accepted because they are binary strings.\n",
        "dog and hello failed becuase they are not binary strings.\n",
        "123 failed because binary strings only contain 0 and 1s.\n",
        "00 and 10101010111 are accepted because they are binary strings."
      ],
      "metadata": {
        "id": "YlCJ568566eo"
      }
    },
    {
      "cell_type": "markdown",
      "metadata": {
        "id": "l1CzcvAxiIzj"
      },
      "source": [
        "Now, how about for matching 24-bit hexadecimal codes?"
      ]
    },
    {
      "cell_type": "code",
      "metadata": {
        "id": "rS_lCpxUWzWw",
        "colab": {
          "base_uri": "https://localhost:8080/"
        },
        "outputId": "458afc61-d9ac-4f0b-b672-939f591b3ac9"
      },
      "source": [
        "# find 24-bit hexadecimal color codes\n",
        "test_strings = [\"#F0F8FF\", \"#FFF\", \"#00FFFFF\", \"#2980BD\", \"#FAEBD7\"]\n",
        "hexcode_pattern = r'\\#[0-9A-F]{5,6}'\n",
        "apply_regex(test_strings, hexcode_pattern)"
      ],
      "execution_count": 105,
      "outputs": [
        {
          "output_type": "stream",
          "name": "stdout",
          "text": [
            "Test string #F0F8FF accepted.\n",
            "Test string #FFF failed!\n",
            "Test string #00FFFFF failed!\n",
            "Test string #2980BD accepted.\n",
            "Test string #FAEBD7 accepted.\n"
          ]
        }
      ]
    },
    {
      "cell_type": "markdown",
      "source": [
        "F0F8FF got accepted because it is 24-bit hexadecimal.\n",
        "FFF failed beacuase it is not 24-bit.\n",
        "00FFFFF failed beacuase it is not 24-bit.\n",
        "2980BD and FAEBD7 got accepted beacause they are 24-bit hexadecimal color codes."
      ],
      "metadata": {
        "id": "fWztrdN17sQf"
      }
    },
    {
      "cell_type": "markdown",
      "metadata": {
        "id": "o-JWQ90fYSuX"
      },
      "source": [
        "#### **Question 1. (5 points)** \n",
        "\n",
        "*Identify what types of strings the regular expression in the below code block represents?* "
      ]
    },
    {
      "cell_type": "code",
      "metadata": {
        "id": "FbtEOfAe763d",
        "colab": {
          "base_uri": "https://localhost:8080/"
        },
        "outputId": "0fa99720-eb57-48e9-dc7d-00acdf9cc3e2"
      },
      "source": [
        "# All you need to do is run this code block, analyze the output and answer the associated question.\n",
        "re_pattern = r'(\\([0-9][0-9][0-9]\\)\\s)?[0-9][0-9][0-9]-[0-9][0-9][0-9][0-9]'\n",
        "test_strings = [\"00\", \"999-999-9999\", \"(111) 111-1111\", \"(111)111-1111\", \"989-1830\", \"241/131/103\", \"(182).1903.1021\", \"(101).101.1001\"]\n",
        "apply_regex(test_strings, re_pattern)"
      ],
      "execution_count": 106,
      "outputs": [
        {
          "output_type": "stream",
          "name": "stdout",
          "text": [
            "Test string 00 failed!\n",
            "Test string 999-999-9999 failed!\n",
            "Test string (111) 111-1111 accepted.\n",
            "Test string (111)111-1111 failed!\n",
            "Test string 989-1830 accepted.\n",
            "Test string 241/131/103 failed!\n",
            "Test string (182).1903.1021 failed!\n",
            "Test string (101).101.1001 failed!\n"
          ]
        }
      ]
    },
    {
      "cell_type": "markdown",
      "source": [
        "The type of strings that are allowed are of 2 types:\n",
        "1.(3 digits) space 3 digits - 4 digits OR (xxx) xxx-xxxx where x is a digit from 0 to 9.\n",
        "2.3 digits - 4 digits OR xxx-xxxx where x is a digit from 0 to 9.\n",
        "rest all the types of strings are rejected.\n",
        "We can see that only (111) 111-1111 and 989-1830 are accepted rest all are rejected."
      ],
      "metadata": {
        "id": "UW3tfxe28vDM"
      }
    },
    {
      "cell_type": "markdown",
      "metadata": {
        "id": "iiTS66MlYlSI"
      },
      "source": [
        "#### **Question 2. (10 points)**\n",
        "\n",
        "*Modify the regular expression (used in Q1.) to also accept strings that follow the format `xxx-xxx-xxxx` where `x` is a digit between 0 to 9?*"
      ]
    },
    {
      "cell_type": "code",
      "metadata": {
        "id": "TjvX9NihaAR8",
        "colab": {
          "base_uri": "https://localhost:8080/"
        },
        "outputId": "c7a79aff-8424-418f-8b81-d7308d61acc6"
      },
      "source": [
        "# Replace the modified regular expression in the code snippet used in Question 1\n",
        "# Add your code below this comment and execute your code\n",
        "re_pattern = r'(\\([0-9][0-9][0-9]\\)\\s)?[0-9][0-9][0-9]-[0-9][0-9][0-9][0-9]|[0-9][0-9][0-9]-[0-9][0-9][0-9]-[0-9][0-9][0-9][0-9]'\n",
        "test_strings = [\"00\", \"999-999-9999\", \"(111) 111-1111\", \"(111)111-1111\", \"989-1830\", \"241/131/103\", \"(182).1903.1021\", \"(101).101.1001\",\"123-123-1234\"]\n",
        "apply_regex(test_strings, re_pattern)\n"
      ],
      "execution_count": 107,
      "outputs": [
        {
          "output_type": "stream",
          "name": "stdout",
          "text": [
            "Test string 00 failed!\n",
            "Test string 999-999-9999 accepted.\n",
            "Test string (111) 111-1111 accepted.\n",
            "Test string (111)111-1111 failed!\n",
            "Test string 989-1830 accepted.\n",
            "Test string 241/131/103 failed!\n",
            "Test string (182).1903.1021 failed!\n",
            "Test string (101).101.1001 failed!\n",
            "Test string 123-123-1234 accepted.\n"
          ]
        }
      ]
    },
    {
      "cell_type": "markdown",
      "source": [
        "Using the disjunction pipe |, I have modified the code to accept the strings of the format xxx-xxx-xxxx where x is a digit from 0 to 9.We can check that as 123-123-1234 is accepted."
      ],
      "metadata": {
        "id": "o6AGMUcDAXy1"
      }
    },
    {
      "cell_type": "markdown",
      "metadata": {
        "id": "wSJ-89VjY-TI"
      },
      "source": [
        "#### **Question 3. (20 points)**\n",
        "\n",
        "*Modify the regular expression (used in Q2.) to also accept strings that are of the form `(xxx) xxx-xxxx` and `(xxx)xxx-xxxx` where `x` is a digit between 0 to 9?*"
      ]
    },
    {
      "cell_type": "code",
      "metadata": {
        "id": "QG0qg465aMqu",
        "colab": {
          "base_uri": "https://localhost:8080/"
        },
        "outputId": "c6f1548d-2d29-47c4-ad16-a0c268b924d2"
      },
      "source": [
        "# Replace the modified regular expression in the code snippet used in Question 2\n",
        "# Add your code below this comment and execute your code\n",
        "re_pattern = r'(\\([0-9][0-9][0-9]\\)\\s?)?[0-9][0-9][0-9]-[0-9][0-9][0-9][0-9]|[0-9][0-9][0-9]-[0-9][0-9][0-9]-[0-9][0-9][0-9][0-9]'\n",
        "test_strings = [\"00\", \"999-999-9999\", \"(111) 111-1111\", \"(111)111-1111\", \"989-1830\", \"241/131/103\", \"(182).1903.1021\", \"(101).101.1001\",\"123-123-1234\"]\n",
        "apply_regex(test_strings, re_pattern)\n"
      ],
      "execution_count": 108,
      "outputs": [
        {
          "output_type": "stream",
          "name": "stdout",
          "text": [
            "Test string 00 failed!\n",
            "Test string 999-999-9999 accepted.\n",
            "Test string (111) 111-1111 accepted.\n",
            "Test string (111)111-1111 accepted.\n",
            "Test string 989-1830 accepted.\n",
            "Test string 241/131/103 failed!\n",
            "Test string (182).1903.1021 failed!\n",
            "Test string (101).101.1001 failed!\n",
            "Test string 123-123-1234 accepted.\n"
          ]
        }
      ]
    },
    {
      "cell_type": "markdown",
      "source": [
        "I have modified the code to accept the strings of the form (xxx) xxx-xxxx and (xxx)xxx-xxxx by adding the ? after \\s(which means it will accept both strings with and without the space).The code was already accepting the (xxx) xxx-xxxx type of string as (111) 111-1111. We can verify for the (xxx)xxx-xxxx type as (111)111-1111 is also accepted. "
      ],
      "metadata": {
        "id": "wVKHHXP9Bf6C"
      }
    },
    {
      "cell_type": "markdown",
      "metadata": {
        "id": "VPQF3tOjZW0P"
      },
      "source": [
        "#### **Question 4. (20 points)**\n",
        "\n",
        "*Modify the regular expression (used in Q3.) to accept strings that have the format `(xxx)-xxx-xxxx` and `(xxx).xxx.xxxx` but reject strings that are of the format `(xxx)/xxx.xxxx` where `x` is a digit between 0 to 9?*"
      ]
    },
    {
      "cell_type": "code",
      "metadata": {
        "id": "Ox7WciR-aNg3",
        "colab": {
          "base_uri": "https://localhost:8080/"
        },
        "outputId": "37c15742-8152-41d5-a680-10c333fff21c"
      },
      "source": [
        "# Replace the modified regular expression in the code snippet used in Question 3\n",
        "# Add your code below this comment and execute your code\n",
        "\n",
        "re_pattern = r'(\\([0-9][0-9][0-9]\\)\\s?)?[0-9][0-9][0-9]-[0-9][0-9][0-9][0-9]|[0-9][0-9][0-9]-[0-9][0-9][0-9]-[0-9][0-9][0-9][0-9]|\\([0-9][0-9][0-9]\\)[^/][0-9][0-9][0-9].[0-9][0-9][0-9][0-9]'\n",
        "test_strings = [\"00\", \"999-999-9999\", \"(111) 111-1111\", \"(111)111-1111\", \"989-1830\", \"241/131/103\", \"(182).1903.1021\", \"(101).101.1001\",\"123-123-1234\",\"(111)-111-1111\",\"(111).111.1111\",\"(111)/111.1111\"]\n",
        "apply_regex(test_strings, re_pattern)"
      ],
      "execution_count": 109,
      "outputs": [
        {
          "output_type": "stream",
          "name": "stdout",
          "text": [
            "Test string 00 failed!\n",
            "Test string 999-999-9999 accepted.\n",
            "Test string (111) 111-1111 accepted.\n",
            "Test string (111)111-1111 accepted.\n",
            "Test string 989-1830 accepted.\n",
            "Test string 241/131/103 failed!\n",
            "Test string (182).1903.1021 failed!\n",
            "Test string (101).101.1001 accepted.\n",
            "Test string 123-123-1234 accepted.\n",
            "Test string (111)-111-1111 accepted.\n",
            "Test string (111).111.1111 accepted.\n",
            "Test string (111)/111.1111 failed!\n"
          ]
        }
      ]
    },
    {
      "cell_type": "markdown",
      "source": [
        "I have modified the regular expression to accept the strings of the format (xxx)-xxx-xxxx and (xxx).xxx.xxxx but reject the strings of the format (xxx)/xxx.xxxx where x is a digit betweeen 0 to 9. We can verify this as the strings (101).101.1001 , (111)-111-1111 and (111).111.1111 are accepted but the string (111)/111.1111 is failed. "
      ],
      "metadata": {
        "id": "7NzgERR9J5_6"
      }
    },
    {
      "cell_type": "markdown",
      "metadata": {
        "id": "l0rOljUHdmRR"
      },
      "source": [
        "---"
      ]
    },
    {
      "cell_type": "markdown",
      "metadata": {
        "id": "8_rLt00EaZvB"
      },
      "source": [
        "## **Using regular expressions based pattern matching on real world text**\n",
        "\n",
        "For the purposes of demonstration, here's a dummy paragraph of text. A few observations here:\n",
        "* The text has multiple paragraphs with each paragraph having more than one sentence. \n",
        "* Some of the words are capitalized (first letter is in uppercase followed by lowercase letters). "
      ]
    },
    {
      "cell_type": "code",
      "metadata": {
        "id": "M6aDPflCCMM1",
        "colab": {
          "base_uri": "https://localhost:8080/"
        },
        "outputId": "2c6466f9-2eb0-41a0-9cf6-79ceddc1bbd5"
      },
      "source": [
        "text = \"\"\"Here is the First Paragraph and this is the First Sentence. here is the Second Sentence. now is the Third Sentence. this is the Fourth Sentence of the first paragaraph. this paragraph is ending now with a Fifth Sentence.\n",
        "Now, it is the Second Paragraph and its First Sentence. here is the Second Sentence. now is the Third Sentence. this is the Fourth Sentence of the second paragraph. this paragraph is ending now with a Fifth Sentence.\n",
        "Finally, this is the Third Paragraph and is the First Sentence of this paragraph. here is the Second Sentence. now is the Third Sentence. this is the Fourth Sentence of the third paragaraph. this paragraph is ending now with a Fifth Sentence.\n",
        "4th paragraph is not going to be detected by either of the regex patterns below.\n",
        "\"\"\"\n",
        "\n",
        "print(text)"
      ],
      "execution_count": 110,
      "outputs": [
        {
          "output_type": "stream",
          "name": "stdout",
          "text": [
            "Here is the First Paragraph and this is the First Sentence. here is the Second Sentence. now is the Third Sentence. this is the Fourth Sentence of the first paragaraph. this paragraph is ending now with a Fifth Sentence.\n",
            "Now, it is the Second Paragraph and its First Sentence. here is the Second Sentence. now is the Third Sentence. this is the Fourth Sentence of the second paragraph. this paragraph is ending now with a Fifth Sentence.\n",
            "Finally, this is the Third Paragraph and is the First Sentence of this paragraph. here is the Second Sentence. now is the Third Sentence. this is the Fourth Sentence of the third paragaraph. this paragraph is ending now with a Fifth Sentence.\n",
            "4th paragraph is not going to be detected by either of the regex patterns below.\n",
            "\n"
          ]
        }
      ]
    },
    {
      "cell_type": "markdown",
      "source": [
        "The text has been printed."
      ],
      "metadata": {
        "id": "CTzdhnDMafbc"
      }
    },
    {
      "cell_type": "markdown",
      "metadata": {
        "id": "dCZTjsmadgKZ"
      },
      "source": [
        "The following code block shows a regular expression that matches only those strings that:\n",
        "1. are at the start of a line and\n",
        "2. the string does not start with a number or a whitespace\n",
        "\n",
        "`re.findall()` finds all matches of the pattern in the text under consideration. The output is a list of strings that matched."
      ]
    },
    {
      "cell_type": "code",
      "metadata": {
        "id": "R1xFyRSUdgm7",
        "colab": {
          "base_uri": "https://localhost:8080/"
        },
        "outputId": "3cd5add7-e422-4517-92f5-00a555c2afca"
      },
      "source": [
        "re_pattern1 = r'^[^0-9 ]+'\n",
        "print(re.findall(re_pattern1, text, re.MULTILINE))"
      ],
      "execution_count": 111,
      "outputs": [
        {
          "output_type": "stream",
          "name": "stdout",
          "text": [
            "['Here', 'Now,', 'Finally,']\n"
          ]
        }
      ]
    },
    {
      "cell_type": "markdown",
      "source": [
        "only three strings satisfy the condition, so they are printed."
      ],
      "metadata": {
        "id": "waI_z4KTbAIF"
      }
    },
    {
      "cell_type": "markdown",
      "metadata": {
        "id": "GtCXyrandj-s"
      },
      "source": [
        "Further, the regular expression defined below matches two consecutive words that are capitalized."
      ]
    },
    {
      "cell_type": "code",
      "metadata": {
        "id": "d-RhWLyDdjZp",
        "colab": {
          "base_uri": "https://localhost:8080/"
        },
        "outputId": "7a7c750a-c340-4a65-d5c3-d29258bfa5b6"
      },
      "source": [
        "re_pattern2 = r'[A-Z][a-z]+ [A-Z][a-z]+'\n",
        "print(re.findall(re_pattern2, text))"
      ],
      "execution_count": 112,
      "outputs": [
        {
          "output_type": "stream",
          "name": "stdout",
          "text": [
            "['First Paragraph', 'First Sentence', 'Second Sentence', 'Third Sentence', 'Fourth Sentence', 'Fifth Sentence', 'Second Paragraph', 'First Sentence', 'Second Sentence', 'Third Sentence', 'Fourth Sentence', 'Fifth Sentence', 'Third Paragraph', 'First Sentence', 'Second Sentence', 'Third Sentence', 'Fourth Sentence', 'Fifth Sentence']\n"
          ]
        }
      ]
    },
    {
      "cell_type": "markdown",
      "source": [
        "All the matches for two consecutive capitalized words have been printed."
      ],
      "metadata": {
        "id": "0iqWRlkSbfUQ"
      }
    },
    {
      "cell_type": "markdown",
      "metadata": {
        "id": "88CbasJvagxH"
      },
      "source": [
        "\n",
        "\n",
        "Following is a text excerpt on \"Inaugural Address\" taken from the website of the [Joint Congressional Committee on Inaugural Ceremonies](https://www.inaugural.senate.gov/inaugural-address/):"
      ]
    },
    {
      "cell_type": "code",
      "metadata": {
        "id": "XybBR7nvLpR8"
      },
      "source": [
        "inau_text=\"\"\"The custom of delivering an address on Inauguration Day started with the very first Inauguration—George Washington’s—on April 30, 1789. After taking his oath of office on the balcony of Federal Hall in New York City, Washington proceeded to the Senate chamber where he read a speech before members of Congress and other dignitaries. His second Inauguration took place in Philadelphia on March 4, 1793, in the Senate chamber of Congress Hall. There, Washington gave the shortest Inaugural address on record—just 135 words —before repeating the oath of office.\n",
        "Every President since Washington has delivered an Inaugural address. While many of the early Presidents read their addresses before taking the oath, current custom dictates that the Chief Justice of the Supreme Court administer the oath first, followed by the President’s speech.\n",
        "William Henry Harrison delivered the longest Inaugural address, at 8,445 words, on March 4, 1841—a bitterly cold, wet day. He died one month later of pneumonia, believed to have been brought on by prolonged exposure to the elements on his Inauguration Day. John Adams’ Inaugural address, which totaled 2,308 words, contained the longest sentence, at 737 words. After Washington’s second Inaugural address, the next shortest was Franklin D. Roosevelt’s fourth address on January 20, 1945, at just 559 words. Roosevelt had chosen to have a simple Inauguration at the White House in light of the nation’s involvement in World War II.\n",
        "In 1921, Warren G. Harding became the first President to take his oath and deliver his Inaugural address through loud speakers. In 1925, Calvin Coolidge’s Inaugural address was the first to be broadcast nationally by radio. And in 1949, Harry S. Truman became the first President to deliver his Inaugural address over television airwaves.\n",
        "Most Presidents use their Inaugural address to present their vision of America and to set forth their goals for the nation. Some of the most eloquent and powerful speeches are still quoted today. In 1865, in the waning days of the Civil War, Abraham Lincoln stated, “With malice toward none, with charity for all, with firmness in the right as God gives us to see the right, let us strive on to finish the work we are in, to bind up the nation’s wounds, to care for him who shall have borne the battle and for his widow and his orphan, to do all which may achieve and cherish a just and lasting peace among ourselves and with all nations.” In 1933, Franklin D. Roosevelt avowed, “we have nothing to fear but fear itself.” And in 1961, John F. Kennedy declared, “And so my fellow Americans: ask not what your country can do for you—ask what you can do for your country.”\n",
        "Today, Presidents deliver their Inaugural address on the West Front of the Capitol, but this has not always been the case. Until Andrew Jackson’s first Inauguration in 1829, most Presidents spoke in either the House or Senate chambers. Jackson became the first President to take his oath of office and deliver his address on the East Front Portico of the U.S. Capitol in 1829. With few exceptions, the next 37 Inaugurations took place there, until 1981, when Ronald Reagan’s Swearing-In Ceremony and Inaugural address occurred on the West Front Terrace of the Capitol. The West Front has been used ever since.\"\"\"\n",
        "\n"
      ],
      "execution_count": 113,
      "outputs": []
    },
    {
      "cell_type": "markdown",
      "source": [
        "inau_text conatins the text excerpt on \"Inaugural Address\""
      ],
      "metadata": {
        "id": "TKjoyfRvbxr_"
      }
    },
    {
      "cell_type": "markdown",
      "metadata": {
        "id": "ruu4xqGqbbXv"
      },
      "source": [
        "#### **Question 5a. (20 points)**\n",
        "\n",
        "*Identify all the capitalized words in the \"Inaugural Address\" excerpt and write a regular expression that finds all occurrences of such words in the text. Then, run the Python code snippet to automatically display the matched strings according to the pattern.*.\n",
        "\n",
        "NOTE: You can use the *re.findall()* method as demonstrated in the example before this exercise."
      ]
    },
    {
      "cell_type": "code",
      "metadata": {
        "id": "RJoeu9M7bxxe",
        "colab": {
          "base_uri": "https://localhost:8080/"
        },
        "outputId": "0d3f71bd-24ee-413b-b6c9-979d6b64079f"
      },
      "source": [
        "# Write your code below these comments and execute your code\n",
        "# HINT: You may need to tweak the use of capture groups to NOT capture partial matches\n",
        "# For e.g. 'New York' instead of 'New', 'York')\n",
        "re_pat = r'[A-Z][a-z]+ [A-Z][a-z]+|[A-Z][a-z]+'\n",
        "print(re.findall(re_pat, inau_text))\n"
      ],
      "execution_count": 114,
      "outputs": [
        {
          "output_type": "stream",
          "name": "stdout",
          "text": [
            "['The', 'Inauguration Day', 'Inauguration', 'George Washington', 'April', 'After', 'Federal Hall', 'New York', 'City', 'Washington', 'Senate', 'Congress', 'His', 'Inauguration', 'Philadelphia', 'March', 'Senate', 'Congress Hall', 'There', 'Washington', 'Inaugural', 'Every President', 'Washington', 'Inaugural', 'While', 'Presidents', 'Chief Justice', 'Supreme Court', 'President', 'William Henry', 'Harrison', 'Inaugural', 'March', 'He', 'Inauguration Day', 'John Adams', 'Inaugural', 'After Washington', 'Inaugural', 'Franklin', 'Roosevelt', 'January', 'Roosevelt', 'Inauguration', 'White House', 'World War', 'In', 'Warren', 'Harding', 'President', 'Inaugural', 'In', 'Calvin Coolidge', 'Inaugural', 'And', 'Harry', 'Truman', 'President', 'Inaugural', 'Most Presidents', 'Inaugural', 'America', 'Some', 'In', 'Civil War', 'Abraham Lincoln', 'With', 'God', 'In', 'Franklin', 'Roosevelt', 'And', 'John', 'Kennedy', 'And', 'Americans', 'Today', 'Presidents', 'Inaugural', 'West Front', 'Capitol', 'Until Andrew', 'Jackson', 'Inauguration', 'Presidents', 'House', 'Senate', 'Jackson', 'President', 'East Front', 'Portico', 'Capitol', 'With', 'Inaugurations', 'Ronald Reagan', 'Swearing', 'In Ceremony', 'Inaugural', 'West Front', 'Terrace', 'Capitol', 'The West', 'Front']\n"
          ]
        }
      ]
    },
    {
      "cell_type": "markdown",
      "source": [
        "My code give the strings such as George Washington, New York, Supreme Court, Chief Justice,etc together and also displays the single capitalized words such as The, April,etc. I am first searching for pair of consecutive words for each words and if the next word is not capital I am storing the current capital term separately."
      ],
      "metadata": {
        "id": "T8pBI_vxeLBG"
      }
    },
    {
      "cell_type": "markdown",
      "metadata": {
        "id": "0mBvooHSb3mF"
      },
      "source": [
        "#### **Question 5b. (25 points)**\n",
        "\n",
        "*Identify all the dates in the \"Inaugural Address\" excerpt and write a regular expression that finds all occurrences of the dates in the text. Then, run the Python code snippet to automatically display a list of all such dates identified.*\n",
        "\n",
        "NOTE: You can use the *re.findall()* method as demonstrated in the example before this exercise."
      ]
    },
    {
      "cell_type": "code",
      "metadata": {
        "id": "fS_Gf1lkb3vM",
        "colab": {
          "base_uri": "https://localhost:8080/"
        },
        "outputId": "7bf27122-844f-463f-e49e-a4b4fc46dc2f"
      },
      "source": [
        "# Write your code below these comments and execute your code\n",
        "# HINT: You may need to tweak the use of capture groups to NOT capture partial matches\n",
        "# For e.g. 'April 20, 1945' instead of 'April', '20')\n",
        "re_pat = r'[A-Z][a-z]+ [0-9][0-9]*\\, [1-9][0-9][0-9][0-9]|[1-9][0-9][0-9][0-9]'\n",
        "print(re.findall(re_pat, inau_text))"
      ],
      "execution_count": 115,
      "outputs": [
        {
          "output_type": "stream",
          "name": "stdout",
          "text": [
            "['April 30, 1789', 'March 4, 1793', 'March 4, 1841', 'January 20, 1945', '1921', '1925', '1949', '1865', '1933', '1961', '1829', '1829', '1981']\n"
          ]
        }
      ]
    },
    {
      "cell_type": "markdown",
      "source": [
        "My code is checking and displaying the dates in the format Month Day, Year. My code also check for the years who do not have day and month as they also signify some kind of date. If the strings with only years is not required we can just modify the re_pat by removing the disjoint condition and [1-9][0-9][0-9][0-9] in the last part. I have done the same thing in the below code."
      ],
      "metadata": {
        "id": "73IdYxqjhxDV"
      }
    },
    {
      "cell_type": "code",
      "source": [
        "re_pat = r'[A-Z][a-z]+ [0-9][0-9]*\\, [1-9][0-9][0-9][0-9]'\n",
        "print(re.findall(re_pat, inau_text))"
      ],
      "metadata": {
        "colab": {
          "base_uri": "https://localhost:8080/"
        },
        "id": "kloyLFK2kDCQ",
        "outputId": "41f2ff99-0807-4827-b73b-3b48002f687d"
      },
      "execution_count": 116,
      "outputs": [
        {
          "output_type": "stream",
          "name": "stdout",
          "text": [
            "['April 30, 1789', 'March 4, 1793', 'March 4, 1841', 'January 20, 1945']\n"
          ]
        }
      ]
    },
    {
      "cell_type": "markdown",
      "source": [
        "My code is checking and displaying the dates in the format Month Day, Year."
      ],
      "metadata": {
        "id": "YQ7otXt4kOmE"
      }
    },
    {
      "cell_type": "markdown",
      "metadata": {
        "id": "WymTuLF6sj5w"
      },
      "source": [
        "---"
      ]
    }
  ]
}